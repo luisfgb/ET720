{
  "nbformat": 4,
  "nbformat_minor": 0,
  "metadata": {
    "colab": {
      "name": "et720_fluxo.ipynb",
      "provenance": []
    },
    "kernelspec": {
      "name": "python3",
      "display_name": "Python 3"
    },
    "language_info": {
      "name": "python"
    }
  },
  "cells": [
    {
      "cell_type": "markdown",
      "metadata": {
        "id": "SliRWvckJ3Ie"
      },
      "source": [
        "# **ET720 Calculo de fluxo de potência**"
      ]
    },
    {
      "cell_type": "code",
      "metadata": {
        "id": "XV-TW89vJ1WE"
      },
      "source": [
        "import numpy as np"
      ],
      "execution_count": null,
      "outputs": []
    },
    {
      "cell_type": "markdown",
      "metadata": {
        "id": "gPcQkLADH7w9"
      },
      "source": [
        "**Determinando a Matriz Admitância**"
      ]
    },
    {
      "cell_type": "code",
      "metadata": {
        "id": "CDbDfeBMH5GS"
      },
      "source": [
        "#admitância\n",
        "def adm(nbarras):\n",
        "  Y = np.zeros((nbarras,nbarras), dtype=complex)\n",
        "  print('Se houver Mais de uma conexao entre duas barras iguais somar os valores antes e inserir a soma!!!\\n')\n",
        "  for i in range(nbarras):\n",
        "    for j in range(nbarras):\n",
        "      if (Y[j][i]==0):\n",
        "        if j==i:\n",
        "          print(f'----------\\nPara Y{i+1}{j+1}: ')\n",
        "          for k in range(nbarras-1):\n",
        "            rkm = float(input(f'Insira r{k+1}: '))\n",
        "            xkm = float(input(f'Insira x{k+1}: '))\n",
        "            zkm = np.complex(rkm,xkm)\n",
        "            b = float(input(f'Insira b{i+1}{k+2}: '))\n",
        "            bkm = np.complex(0,b)\n",
        "            if (zkm!=0):\n",
        "              Y[i][j] = Y[i][j] + ((1/zkm)+(bkm/2))\n",
        "        else:\n",
        "          print(f'---------\\nPara Y{i+1}{j+1}: ')\n",
        "          rkm = float(input(f'Insira r{i+1}{j+1}: '))\n",
        "          xkm = float(input(f'Insira x{i+1}{j+1}: '))\n",
        "          zkm = np.complex(rkm,xkm)\n",
        "          if (zkm!=0):\n",
        "            ykm = (1/zkm)\n",
        "            Y[i][j] = -(ykm)\n",
        "      else:\n",
        "        Y[i][j] = Y[j][i]      \n",
        "  return Y    "
      ],
      "execution_count": null,
      "outputs": []
    },
    {
      "cell_type": "code",
      "metadata": {
        "colab": {
          "base_uri": "https://localhost:8080/"
        },
        "id": "OvjwkfyOJFNV",
        "outputId": "56052faa-3856-4d99-8d26-fef48378ef06"
      },
      "source": [
        "#matriz admitância Y = G+jB\n",
        "Y = adm(4)"
      ],
      "execution_count": null,
      "outputs": [
        {
          "output_type": "stream",
          "text": [
            "Se houver Mais de uma conexao entre duas barras iguais somar os valores antes e inserir a soma!!!\n",
            "\n",
            "----------\n",
            "Para Y11: \n",
            "Insira r1: 0.005\n",
            "Insira x1: 0.2\n",
            "Insira b12: 0.54\n",
            "Insira r2: 0.0024365\n",
            "Insira x2: 0.037514\n",
            "Insira b13: 1.04\n",
            "Insira r3: 0\n",
            "Insira x3: 0\n",
            "Insira b14: 0\n",
            "---------\n",
            "Para Y12: \n",
            "Insira r12: 0.005\n",
            "Insira x12: 0.2\n",
            "---------\n",
            "Para Y13: \n",
            "Insira r13: 0.0024365\n",
            "Insira x13: 0.037514\n",
            "---------\n",
            "Para Y14: \n",
            "Insira r14: 0\n",
            "Insira x14: 0\n",
            "----------\n",
            "Para Y22: \n",
            "Insira r1: 0.005\n",
            "Insira x1: 0.2\n",
            "Insira b22: 0.54\n",
            "Insira r2: 0.00225\n",
            "Insira x2: 0.1\n",
            "Insira b23: 0.88\n",
            "Insira r3: 0\n",
            "Insira x3: 0\n",
            "Insira b24: 0\n",
            "---------\n",
            "Para Y23: \n",
            "Insira r23: 0.00225\n",
            "Insira x23: 0.1\n",
            "---------\n",
            "Para Y24: \n",
            "Insira r24: 0\n",
            "Insira x24: 0\n",
            "----------\n",
            "Para Y33: \n",
            "Insira r1: 0.0024365\n",
            "Insira x1: 0.037514\n",
            "Insira b32: 1.04\n",
            "Insira r2: 0.00225\n",
            "Insira x2: 0.1\n",
            "Insira b33: 0.88\n",
            "Insira r3: 0.001\n",
            "Insira x3: 0.05\n",
            "Insira b34: 0.44\n",
            "---------\n",
            "Para Y34: \n",
            "Insira r34: 0.001\n",
            "Insira x34: 0.05\n",
            "---------\n",
            "Para Y41: \n",
            "Insira r41: 0\n",
            "Insira x41: 0\n",
            "---------\n",
            "Para Y42: \n",
            "Insira r42: 0\n",
            "Insira x42: 0\n",
            "----------\n",
            "Para Y44: \n",
            "Insira r1: 0.001\n",
            "Insira x1: 0.05\n",
            "Insira b42: 0.44\n",
            "Insira r2: 0\n",
            "Insira x2: 0\n",
            "Insira b43: 0\n",
            "Insira r3: 0\n",
            "Insira x3: 0\n",
            "Insira b44: 0\n"
          ],
          "name": "stdout"
        }
      ]
    },
    {
      "cell_type": "code",
      "metadata": {
        "colab": {
          "base_uri": "https://localhost:8080/"
        },
        "id": "y2XO51ztcjYh",
        "outputId": "081ee753-baca-4309-e6c3-4295a737dc0b"
      },
      "source": [
        "print(Y,'\\n')"
      ],
      "execution_count": null,
      "outputs": [
        {
          "output_type": "stream",
          "text": [
            "[[ 1.84897845-30.75161588j -0.12492192 +4.99687695j\n",
            "  -1.72405652+26.54473893j  0.         +0.j        ]\n",
            " [-0.12492192 +4.99687695j  0.34980808-14.28181701j\n",
            "  -0.22488615 +9.99494006j  0.         +0.j        ]\n",
            " [-1.72405652+26.54473893j -0.22488615 +9.99494006j\n",
            "   2.34878274-55.35168219j -0.39984006+19.9920032j ]\n",
            " [ 0.         +0.j          0.         +0.j\n",
            "  -0.39984006+19.9920032j   0.39984006-19.7720032j ]] \n",
            "\n"
          ],
          "name": "stdout"
        }
      ]
    },
    {
      "cell_type": "code",
      "metadata": {
        "id": "zTpUNsz2XhS1"
      },
      "source": [
        "#funcoes\n",
        "def Hkk(vk,bkk,qk):\n",
        "  return ((-bkk*(vk**2))-qk)\n",
        "def Hkm(vk,vm,gkm,bkm,ak,am):\n",
        "  akm = ak-am\n",
        "  return ((vk*vm)*(gkm*np.sin(akm)-bkm*np.cos(akm)))\n",
        "\n",
        "def Nkk(vk,gkk,pk):\n",
        "  return ((1/vk)*(pk+gkk*vk**2))\n",
        "def Nkm(vk,gkm,bkm,ak,am):\n",
        "  akm = ak-am\n",
        "  return ((vk)*(gkm*np.cos(akm)+bkm*np.sin(akm)))\n",
        "\n",
        "def Mkk(vk,gkk,pk):\n",
        "  return ((-gkk*vk**2)+pk)\n",
        "def Mkm(vk,vm,gkm,bkm,ak,am):\n",
        "  akm = ak-am\n",
        "  return ((-vk*vm)*(gkm*np.cos(akm)+bkm*np.sin(akm)))\n",
        "\n",
        "def Lkk(vk,bkk,qk):\n",
        "  return ((1/vk)*(qk-bkk*vk**2))\n",
        "def Lkm(vk,gkm,bkm,ak,am):\n",
        "  akm = ak-am\n",
        "  return ((vk)*(gkm*np.sin(akm)-bkm*np.cos(akm)))\n",
        "\n"
      ],
      "execution_count": null,
      "outputs": []
    },
    {
      "cell_type": "markdown",
      "metadata": {
        "id": "KCG-s9F1Jw-s"
      },
      "source": [
        "**Potências**"
      ]
    },
    {
      "cell_type": "code",
      "metadata": {
        "id": "x3Mu0kG0bwFn"
      },
      "source": [
        "#potências\n",
        "def potP(v,a,nbarras,Y):\n",
        "  P = np.zeros(nbarras)\n",
        "  for i in range(nbarras):\n",
        "    for j in range(nbarras):\n",
        "      P[i] = P[i] + ((v[i]*v[j])*(Y[i][j].real*np.cos(a[i]-a[j]) + Y[i][j].imag*np.sin(a[i]-a[j])))\n",
        "  return P\n",
        "\n",
        "def potQ(v,a,nbarras,Y):\n",
        "  Q = np.zeros(nbarras)\n",
        "  for i in range(nbarras):\n",
        "    for j in range(nbarras):\n",
        "      Q[i] = Q[i] + ((v[i]*v[j])*(Y[i][j].real*np.sin(a[i]-a[j]) - Y[i][j].imag*np.cos(a[i]-a[j]))) \n",
        "  return Q\n"
      ],
      "execution_count": null,
      "outputs": []
    },
    {
      "cell_type": "markdown",
      "metadata": {
        "id": "atMDk_INT1lM"
      },
      "source": [
        "**Funções para calculo da Jacobiana**"
      ]
    },
    {
      "cell_type": "code",
      "metadata": {
        "id": "Ubb2HSw0T6x6"
      },
      "source": [
        "#funcoes\n",
        "def Hkk(v,Q,Y):\n",
        "  aux = int(input('Insira o indice para Hkk: '))\n",
        "  k = aux - 1\n",
        "  print('\\n---------------')\n",
        "  return ((-Y[k][k].imag*v[k]**2)-(Q[k]))\n",
        "def Hkm(v,a,Y):\n",
        "  aux1 = int(input('Insira o indice 1 para Hkm: '))\n",
        "  k = aux1 - 1\n",
        "  aux2 = int(input('Insira o indice 2 para Hkm: '))\n",
        "  m = aux2 - 1\n",
        "  print('\\n---------------')\n",
        "  return ((v[k]*v[m])*(Y[k][m].real*np.sin((a[k]-a[m])) - Y[k][m].imag*np.cos((a[k]-a[m]))))\n",
        "\n",
        "def Nkk(v,P,Y):\n",
        "  aux = int(input('Insira o indice para Nkk: '))\n",
        "  k = aux - 1\n",
        "  print('\\n---------------')\n",
        "  return ((1/v[k])*(P[k] + Y[k][k].real*v[k]**2))\n",
        "def Nkm(v,a,Y):\n",
        "  aux1 = int(input('Insira o indice 1 para Nkm: '))\n",
        "  k = aux1 - 1\n",
        "  aux2 = int(input('Insira o indice 2 para Nkm: '))\n",
        "  m = aux2 - 1\n",
        "  print('\\n---------------')\n",
        "  return (v[k]*(Y[k][m].real*np.cos((a[k]-a[m])) + Y[k][m].imag*np.sin((a[k]-a[m]))))\n",
        "\n",
        "def Mkk(v,P,Y):\n",
        "  aux = int(input('Insira o indice para Mkk: '))\n",
        "  k = aux - 1\n",
        "  print('\\n---------------')\n",
        "  return (-(Y[k][k].real*v[k]**2) + P[k])\n",
        "def Mkm(v,a,Y):\n",
        "  aux1 = int(input('Insira o indice 1 para Mkm: '))\n",
        "  k = aux1 - 1\n",
        "  aux2 = int(input('Insira o indice 2 para Mkm: '))\n",
        "  m = aux2 - 1\n",
        "  print('\\n---------------')\n",
        "  return (-(v[k]*v[m])*(Y[k][m].real*np.cos((a[k]-a[m])) + Y[k][m].imag*np.sin((a[k]-a[m]))))\n",
        "\n",
        "def Lkk(v,Q,Y):\n",
        "  aux = int(input('Insira o indice para Lkk: '))\n",
        "  k = aux - 1\n",
        "  print('\\n---------------')\n",
        "  return ((1/v[k])*(Q[k]-Y[k][k].imag*v[k]**2))\n",
        "def Lkm(v,a,Y):\n",
        "  aux1 = int(input('Insira o indice 1 para Lkm: '))\n",
        "  k = aux1 - 1\n",
        "  aux2 = int(input('Insira o indice 2 para Lkm: '))\n",
        "  m = aux2 - 1\n",
        "  print('\\n---------------')\n",
        "  return (v[k]*(Y[k][m].real*np.sin((a[k]-a[m]))-Y[k][m].imag*np.cos((a[k]-a[m]))))"
      ],
      "execution_count": null,
      "outputs": []
    },
    {
      "cell_type": "code",
      "metadata": {
        "id": "r_6MYZjhT9Wx"
      },
      "source": [
        "def formaJ(npq,npv):\n",
        "  tam = ((2*npq)+npv)\n",
        "  form = np.zeros((tam,tam), dtype=str)\n",
        "  print('Inserir as opções de acordo com as funções H M N L!\\n')\n",
        "  print('Opção KK -> Letra maiúscula  |  Opção KM -> Letra minúscula !\\n')\n",
        "  for i in range(tam):\n",
        "    for j in range(tam):\n",
        "      form[i][j] = input(f'Forma J{i}{j}: ')\n",
        "  return form"
      ],
      "execution_count": null,
      "outputs": []
    },
    {
      "cell_type": "code",
      "metadata": {
        "id": "MpN4EVG4T_01"
      },
      "source": [
        "def jacobian(npq,npv,form,v,a,P,Q,Y):\n",
        "  tam = ((2*npq)+npv)\n",
        "  J = np.zeros((tam,tam))\n",
        "  for i in range(tam):\n",
        "    for j in range(tam):\n",
        "      print(f'J{i}{j}: ')\n",
        "      if (form[i][j]=='H'):\n",
        "        J[i][j] = Hkk(v,Q,Y)\n",
        "      elif (form[i][j]=='M'):\n",
        "        J[i][j] = Mkk(v,P,Y)\n",
        "      elif (form[i][j]=='N'):\n",
        "        J[i][j] = Nkk(v,P,Y)\n",
        "      elif (form[i][j]=='L'):\n",
        "        J[i][j] = Lkk(v,Q,Y)\n",
        "      elif (form[i][j]=='h'):\n",
        "        J[i][j] = Hkm(v,a,Y)\n",
        "      elif (form[i][j]=='m'):\n",
        "        J[i][j] = Mkm(v,a,Y)\n",
        "      elif (form[i][j]=='n'):\n",
        "        J[i][j] = Nkm(v,a,Y)\n",
        "      elif (form[i][j]=='l'):\n",
        "        J[i][j] = Lkm(v,a,Y)\n",
        "  return J  "
      ],
      "execution_count": null,
      "outputs": []
    },
    {
      "cell_type": "markdown",
      "metadata": {
        "id": "uwW3l2EeK328"
      },
      "source": [
        "**Iterações**"
      ]
    },
    {
      "cell_type": "code",
      "metadata": {
        "id": "dVmz-ysTOhhg",
        "colab": {
          "base_uri": "https://localhost:8080/"
        },
        "outputId": "5bd33325-e0ea-445e-ed93-ba8eef36148a"
      },
      "source": [
        "#define-se o numero de barras incialmente\n",
        "nbarras = 4\n",
        "\n",
        "#chute (tet2, tet3, tet4, v2, v4)\n",
        "X = np.array([[0],[0],[0],[1],[1]])\n",
        "v = np.array([1.03,X[3][0],1.02,X[4][0]])\n",
        "a = np.array([0,X[0][0],X[1][0],X[2][0]])\n",
        "#valores esperados (p2,p3,p4,q2,q4)\n",
        "Pesp = np.array([[-1],[3.6],[-5],[-0.5],[-1]])\n",
        "#valores calculados\n",
        "P = potP(v,a,nbarras,Y)\n",
        "Q = potQ(v,a,nbarras,Y)\n",
        "pcalc = np.array([[P[1]],[P[2]],[P[3]],[Q[1]],[Q[3]]])\n",
        "delPQ = Pesp-pcalc\n",
        "print('\\n','A diferença entre as potencias esperadas e as calculadas é:')\n",
        "print(delPQ, '\\n')\n",
        "\n",
        "if (abs(np.max(delPQ))<=0.0001):\n",
        "  print('Os resultados são: \\n')\n",
        "  print('para os ângulos: \\n',X[0][0],X[1][0],X[2][0],'\\n')\n",
        "  print('para as tensões: \\n',X[3][0],X[4][0])\n",
        "else:\n",
        "  #Jacobiana\n",
        "  J = np.array([[Hkk(X[3][0],Y[1][1].imag,pcalc[3][0]),Hkm(X[3][0],1.02,Y[1][2].real,Y[1][2].imag,X[0][0],X[1][0]),Hkm(X[3][0],X[4][0],Y[1][3].real,Y[1][3].imag,X[0][0],X[2][0]),Nkk(X[3][0],Y[1][1].real,pcalc[0][0]),Nkm(X[3][0],Y[1][3].real,Y[1][3].imag,X[0][0],X[2][0])],\n",
        "      [Hkm(1.02,X[3][0],Y[2][1].real,Y[2][1].imag,X[1][0],X[0][0]),Hkk(1.02,Y[2][2].imag,Q[2]),Hkm(1.02,X[4][0],Y[2][3].real,Y[2][3].imag,X[1][0],X[2][0]),Nkm(1.02,Y[2][1].real,Y[2][1].imag,X[1][0],X[0][0]),Nkm(1.02,Y[2][3].real,Y[2][3].imag,X[1][0],X[2][0])],\n",
        "      [Hkm(X[4][0],X[3][0],Y[3][1].real,Y[3][1].imag,X[2][0],X[0][0]),Hkm(X[4][0],1.02,Y[3][2].real,Y[3][2].imag,X[2][0],X[1][0]),Hkk(X[4][0],Y[3][3].imag,pcalc[4][0]),Nkm(X[4][0],Y[3][1].real,Y[3][1].imag,X[2][0],X[0][0]),Nkk(X[4][0],Y[3][3].real,pcalc[2][0])],\n",
        "      [Mkk(X[3][0],Y[1][1].real,pcalc[0][0]),Mkm(X[3][0],1.02,Y[1][2].real,Y[1][2].imag,X[0][0],X[1][0]),Mkm(X[3][0],X[4][0],Y[1][3].real,Y[1][3].imag,X[0][0],X[2][0]),Lkk(X[3][0],Y[1][1].imag,pcalc[3][0]),Lkm(X[3][0],Y[1][3].real,Y[1][3].imag,X[0][0],X[2][0])],\n",
        "      [Mkm(X[4][0],X[3][0],Y[3][1].real,Y[3][1].imag,X[2][0],X[0][0]),Mkm(X[4][0],1.02,Y[3][2].real,Y[3][2].imag,X[2][0],X[1][0]),Mkk(X[4][0],Y[3][3].real,pcalc[2][0]),Lkm(X[4][0],Y[3][1].real,Y[3][1].imag,X[2][0],X[0][0]),Lkk(X[4][0],Y[3][3].imag,pcalc[4][0])] \n",
        "  ])\n",
        "  print(J,'\\n')\n",
        "  \n",
        "  # obtendo novo x\n",
        "  Jinv = np.linalg.inv(J)\n",
        "  newX = X + (Jinv.dot(delPQ))\n",
        "  print('O novo Chute:')\n",
        "  print(newX)"
      ],
      "execution_count": null,
      "outputs": [
        {
          "output_type": "stream",
          "text": [
            "\n",
            " A diferença entre as potencias esperadas e as calculadas é:\n",
            "[[-0.99175462]\n",
            " [ 3.60484096]\n",
            " [-4.9920032 ]\n",
            " [ 0.55980511]\n",
            " [-0.38015994]] \n",
            "\n",
            "[[ 15.34162212 -10.19483886   0.           0.34156269   0.        ]\n",
            " [-10.19483886  58.47458485 -20.39184326  -0.22938387  -0.40783687]\n",
            " [  0.         -20.39184326  20.39184326   0.           0.39184326]\n",
            " [ -0.35805346   0.22938387  -0.          13.2220119    0.        ]\n",
            " [ -0.           0.40783687  -0.40783687   0.          19.15216313]] \n",
            "\n",
            "O novo Chute:\n",
            "[[-0.10898453]\n",
            " [-0.06536682]\n",
            " [-0.30968934]\n",
            " [ 1.04052159]\n",
            " [ 0.97494781]]\n"
          ],
          "name": "stdout"
        }
      ]
    },
    {
      "cell_type": "code",
      "metadata": {
        "colab": {
          "base_uri": "https://localhost:8080/"
        },
        "id": "lA2IjIedKHSO",
        "outputId": "8278aa2b-25f6-4d2b-a770-fef4763b49b6"
      },
      "source": [
        "#chute (tet2, tet3, tet4, v2, v4)\n",
        "X = newX\n",
        "\n",
        "v = np.array([1.03,X[3][0],1.02,X[4][0]])\n",
        "a = np.array([0,X[0][0],X[1][0],X[2][0]])\n",
        "\n",
        "#valores calculados\n",
        "P = potP(v,a,nbarras,Y)\n",
        "Q = potQ(v,a,nbarras,Y)\n",
        "pcalc = np.array([[P[1]],[P[2]],[P[3]],[Q[1]],[Q[3]]])\n",
        "delPQ = Pesp-pcalc\n",
        "print('\\n','A diferença entre as potencias esperadas e as calculadas é:')\n",
        "print(delPQ, '\\n')\n",
        "\n",
        "if (abs(np.max(delPQ))<=0.0001):\n",
        "  print('Os resultados são: \\n')\n",
        "  print('para os ângulos: \\n',X[0][0],X[1][0],X[2][0],'\\n')\n",
        "  print('para as tensões: \\n',X[3][0],X[4][0])\n",
        "else:\n",
        "  #Jacobiana\n",
        "  J = np.array([[Hkk(X[3][0],Y[1][1].imag,pcalc[3][0]),Hkm(X[3][0],1.02,Y[1][2].real,Y[1][2].imag,X[0][0],X[1][0]),Hkm(X[3][0],X[4][0],Y[1][3].real,Y[1][3].imag,X[0][0],X[2][0]),Nkk(X[3][0],Y[1][1].real,pcalc[0][0]),Nkm(X[3][0],Y[1][3].real,Y[1][3].imag,X[0][0],X[2][0])],\n",
        "      [Hkm(1.02,X[3][0],Y[2][1].real,Y[2][1].imag,X[1][0],X[0][0]),Hkk(1.02,Y[2][2].imag,Q[2]),Hkm(1.02,X[4][0],Y[2][3].real,Y[2][3].imag,X[1][0],X[2][0]),Nkm(1.02,Y[2][1].real,Y[2][1].imag,X[1][0],X[0][0]),Nkm(1.02,Y[2][3].real,Y[2][3].imag,X[1][0],X[2][0])],\n",
        "      [Hkm(X[4][0],X[3][0],Y[3][1].real,Y[3][1].imag,X[2][0],X[0][0]),Hkm(X[4][0],1.02,Y[3][2].real,Y[3][2].imag,X[2][0],X[1][0]),Hkk(X[4][0],Y[3][3].imag,pcalc[4][0]),Nkm(X[4][0],Y[3][1].real,Y[3][1].imag,X[2][0],X[0][0]),Nkk(X[4][0],Y[3][3].real,pcalc[2][0])],\n",
        "      [Mkk(X[3][0],Y[1][1].real,pcalc[0][0]),Mkm(X[3][0],1.02,Y[1][2].real,Y[1][2].imag,X[0][0],X[1][0]),Mkm(X[3][0],X[4][0],Y[1][3].real,Y[1][3].imag,X[0][0],X[2][0]),Lkk(X[3][0],Y[1][1].imag,pcalc[3][0]),Lkm(X[3][0],Y[1][3].real,Y[1][3].imag,X[0][0],X[2][0])],\n",
        "      [Mkm(X[4][0],X[3][0],Y[3][1].real,Y[3][1].imag,X[2][0],X[0][0]),Mkm(X[4][0],1.02,Y[3][2].real,Y[3][2].imag,X[2][0],X[1][0]),Mkk(X[4][0],Y[3][3].real,pcalc[2][0]),Lkm(X[4][0],Y[3][1].real,Y[3][1].imag,X[2][0],X[0][0]),Lkk(X[4][0],Y[3][3].imag,pcalc[4][0])] \n",
        "  ])\n",
        "  print(J,'\\n')\n",
        "  \n",
        "  # obtendo novo x\n",
        "  Jinv = np.linalg.inv(J)\n",
        "  newX = X + (Jinv.dot(delPQ))\n",
        "  print('O novo Chute:')\n",
        "  print(newX)"
      ],
      "execution_count": null,
      "outputs": [
        {
          "output_type": "stream",
          "text": [
            "\n",
            " A diferença entre as potencias esperadas e as calculadas é:\n",
            "[[ 0.0378512 ]\n",
            " [ 0.13792205]\n",
            " [-0.18505593]\n",
            " [-0.06625435]\n",
            " [-0.59938603]] \n",
            "\n",
            "[[ 15.89645719 -10.58745336   0.          -0.63345075   0.        ]\n",
            " [-10.60826801  57.70502762 -19.38672989   0.21536884   4.53704235]\n",
            " [ -0.         -19.19436227  19.19436227   0.          -4.54884535]\n",
            " [ -1.41658321   0.70099966  -0.          14.44368486   0.        ]\n",
            " [ -0.           5.19500134  -5.19500134  -0.          18.86576306]] \n",
            "\n",
            "O novo Chute:\n",
            "[[-0.10734827]\n",
            " [-0.0662228 ]\n",
            " [-0.32891464]\n",
            " [ 1.03613653]\n",
            " [ 0.93811841]]\n"
          ],
          "name": "stdout"
        }
      ]
    },
    {
      "cell_type": "code",
      "metadata": {
        "colab": {
          "base_uri": "https://localhost:8080/"
        },
        "id": "1USfDKeJ-b_h",
        "outputId": "9b1cd38f-8f8d-463a-a1e2-7d02fe363c7b"
      },
      "source": [
        "#chute (tet2, tet3, tet4, v2, v4)\n",
        "X = newX\n",
        "\n",
        "v = np.array([1.03,X[3][0],1.02,X[4][0]])\n",
        "a = np.array([0,X[0][0],X[1][0],X[2][0]])\n",
        "\n",
        "#valores calculados\n",
        "P = potP(v,a,nbarras,Y)\n",
        "Q = potQ(v,a,nbarras,Y)\n",
        "pcalc = np.array([[P[1]],[P[2]],[P[3]],[Q[1]],[Q[3]]])\n",
        "delPQ = Pesp-pcalc\n",
        "print('\\n','A diferença entre as potencias esperadas e as calculadas é:')\n",
        "print(delPQ, '\\n')\n",
        "\n",
        "if (abs(np.max(delPQ))<=0.0001):\n",
        "  print('Os resultados são: \\n')\n",
        "  print('para os ângulos: \\n',X[0][0],X[1][0],X[2][0],'\\n')\n",
        "  print('para as tensões: \\n',X[3][0],X[4][0])\n",
        "else:\n",
        "  #Jacobiana\n",
        "  J = np.array([[Hkk(X[3][0],Y[1][1].imag,pcalc[3][0]),Hkm(X[3][0],1.02,Y[1][2].real,Y[1][2].imag,X[0][0],X[1][0]),Hkm(X[3][0],X[4][0],Y[1][3].real,Y[1][3].imag,X[0][0],X[2][0]),Nkk(X[3][0],Y[1][1].real,pcalc[0][0]),Nkm(X[3][0],Y[1][3].real,Y[1][3].imag,X[0][0],X[2][0])],\n",
        "      [Hkm(1.02,X[3][0],Y[2][1].real,Y[2][1].imag,X[1][0],X[0][0]),Hkk(1.02,Y[2][2].imag,Q[2]),Hkm(1.02,X[4][0],Y[2][3].real,Y[2][3].imag,X[1][0],X[2][0]),Nkm(1.02,Y[2][1].real,Y[2][1].imag,X[1][0],X[0][0]),Nkm(1.02,Y[2][3].real,Y[2][3].imag,X[1][0],X[2][0])],\n",
        "      [Hkm(X[4][0],X[3][0],Y[3][1].real,Y[3][1].imag,X[2][0],X[0][0]),Hkm(X[4][0],1.02,Y[3][2].real,Y[3][2].imag,X[2][0],X[1][0]),Hkk(X[4][0],Y[3][3].imag,pcalc[4][0]),Nkm(X[4][0],Y[3][1].real,Y[3][1].imag,X[2][0],X[0][0]),Nkk(X[4][0],Y[3][3].real,pcalc[2][0])],\n",
        "      [Mkk(X[3][0],Y[1][1].real,pcalc[0][0]),Mkm(X[3][0],1.02,Y[1][2].real,Y[1][2].imag,X[0][0],X[1][0]),Mkm(X[3][0],X[4][0],Y[1][3].real,Y[1][3].imag,X[0][0],X[2][0]),Lkk(X[3][0],Y[1][1].imag,pcalc[3][0]),Lkm(X[3][0],Y[1][3].real,Y[1][3].imag,X[0][0],X[2][0])],\n",
        "      [Mkm(X[4][0],X[3][0],Y[3][1].real,Y[3][1].imag,X[2][0],X[0][0]),Mkm(X[4][0],1.02,Y[3][2].real,Y[3][2].imag,X[2][0],X[1][0]),Mkk(X[4][0],Y[3][3].real,pcalc[2][0]),Lkm(X[4][0],Y[3][1].real,Y[3][1].imag,X[2][0],X[0][0]),Lkk(X[4][0],Y[3][3].imag,pcalc[4][0])] \n",
        "  ])\n",
        "  print(J,'\\n')\n",
        "  \n",
        "  # obtendo novo x\n",
        "  Jinv = np.linalg.inv(J)\n",
        "  newX = X + (Jinv.dot(delPQ))\n",
        "  print('O novo Chute:')\n",
        "  print(newX)"
      ],
      "execution_count": null,
      "outputs": [
        {
          "output_type": "stream",
          "text": [
            "\n",
            " A diferença entre as potencias esperadas e as calculadas é:\n",
            "[[ 0.00013799]\n",
            " [ 0.014078  ]\n",
            " [-0.01472402]\n",
            " [-0.00032674]\n",
            " [-0.02632475]] \n",
            "\n",
            "[[ 15.83233076 -10.54454173   0.          -0.60280803   0.        ]\n",
            " [-10.56408504  56.84405185 -18.57305368   0.18995937   4.90152802]\n",
            " [ -0.         -18.37434617  18.37434617   0.          -4.93902497]\n",
            " [ -1.37568456   0.67176795  -0.          14.31566577   0.        ]\n",
            " [ -0.           5.33716169  -5.33716169  -0.          17.510578  ]] \n",
            "\n",
            "O novo Chute:\n",
            "[[-0.10735941]\n",
            " [-0.06625133]\n",
            " [-0.33025618]\n",
            " [ 1.03611397]\n",
            " [ 0.93621485]]\n"
          ],
          "name": "stdout"
        }
      ]
    },
    {
      "cell_type": "code",
      "metadata": {
        "colab": {
          "base_uri": "https://localhost:8080/"
        },
        "id": "2tfRFXSo-hcb",
        "outputId": "36813edf-59cf-4a86-f89e-436c9e1a8145"
      },
      "source": [
        "#chute (tet2, tet3, tet4, v2, v4)\n",
        "X = newX\n",
        "\n",
        "v = np.array([1.03,X[3][0],1.02,X[4][0]])\n",
        "a = np.array([0,X[0][0],X[1][0],X[2][0]])\n",
        "\n",
        "#valores calculados\n",
        "P = potP(v,a,nbarras,Y)\n",
        "Q = potQ(v,a,nbarras,Y)\n",
        "pcalc = np.array([[P[1]],[P[2]],[P[3]],[Q[1]],[Q[3]]])\n",
        "delPQ = Pesp-pcalc\n",
        "print('\\n','A diferença entre as potencias esperadas e as calculadas é:')\n",
        "print(delPQ, '\\n')\n",
        "\n",
        "if (abs(np.max(delPQ))<=0.0001):\n",
        "  print('Os resultados são: \\n')\n",
        "  print('para os ângulos: \\n',X[0][0],X[1][0],X[2][0],'\\n')\n",
        "  print('para as tensões: \\n',X[3][0],X[4][0])\n",
        "else:\n",
        "  #Jacobiana\n",
        "  J = np.array([[Hkk(X[3][0],Y[1][1].imag,pcalc[3][0]),Hkm(X[3][0],1.02,Y[1][2].real,Y[1][2].imag,X[0][0],X[1][0]),Hkm(X[3][0],X[4][0],Y[1][3].real,Y[1][3].imag,X[0][0],X[2][0]),Nkk(X[3][0],Y[1][1].real,pcalc[0][0]),Nkm(X[3][0],Y[1][3].real,Y[1][3].imag,X[0][0],X[2][0])],\n",
        "      [Hkm(1.02,X[3][0],Y[2][1].real,Y[2][1].imag,X[1][0],X[0][0]),Hkk(1.02,Y[2][2].imag,Q[2]),Hkm(1.02,X[4][0],Y[2][3].real,Y[2][3].imag,X[1][0],X[2][0]),Nkm(1.02,Y[2][1].real,Y[2][1].imag,X[1][0],X[0][0]),Nkm(1.02,Y[2][3].real,Y[2][3].imag,X[1][0],X[2][0])],\n",
        "      [Hkm(X[4][0],X[3][0],Y[3][1].real,Y[3][1].imag,X[2][0],X[0][0]),Hkm(X[4][0],1.02,Y[3][2].real,Y[3][2].imag,X[2][0],X[1][0]),Hkk(X[4][0],Y[3][3].imag,pcalc[4][0]),Nkm(X[4][0],Y[3][1].real,Y[3][1].imag,X[2][0],X[0][0]),Nkk(X[4][0],Y[3][3].real,pcalc[2][0])],\n",
        "      [Mkk(X[3][0],Y[1][1].real,pcalc[0][0]),Mkm(X[3][0],1.02,Y[1][2].real,Y[1][2].imag,X[0][0],X[1][0]),Mkm(X[3][0],X[4][0],Y[1][3].real,Y[1][3].imag,X[0][0],X[2][0]),Lkk(X[3][0],Y[1][1].imag,pcalc[3][0]),Lkm(X[3][0],Y[1][3].real,Y[1][3].imag,X[0][0],X[2][0])],\n",
        "      [Mkm(X[4][0],X[3][0],Y[3][1].real,Y[3][1].imag,X[2][0],X[0][0]),Mkm(X[4][0],1.02,Y[3][2].real,Y[3][2].imag,X[2][0],X[1][0]),Mkk(X[4][0],Y[3][3].real,pcalc[2][0]),Lkm(X[4][0],Y[3][1].real,Y[3][1].imag,X[2][0],X[0][0]),Lkk(X[4][0],Y[3][3].imag,pcalc[4][0])] \n",
        "  ])\n",
        "  print(J,'\\n')\n",
        "  \n",
        "  # obtendo novo x\n",
        "  Jinv = np.linalg.inv(J)\n",
        "  newX = X + (Jinv.dot(delPQ))\n",
        "  print('O novo Chute:')\n",
        "  print(newX)"
      ],
      "execution_count": null,
      "outputs": [
        {
          "output_type": "stream",
          "text": [
            "\n",
            " A diferença entre as potencias esperadas e as calculadas é:\n",
            "[[ 2.38485387e-09]\n",
            " [ 5.34409092e-05]\n",
            " [-5.50014033e-05]\n",
            " [-9.27124155e-09]\n",
            " [-7.32299097e-05]] \n",
            "\n",
            "Os resultados são: \n",
            "\n",
            "para os ângulos: \n",
            " -0.107359408421364 -0.06625132956255055 -0.33025617761767884 \n",
            "\n",
            "para as tensões: \n",
            " 1.0361139730113678 0.936214849879433\n"
          ],
          "name": "stdout"
        }
      ]
    },
    {
      "cell_type": "code",
      "metadata": {
        "colab": {
          "base_uri": "https://localhost:8080/"
        },
        "id": "gThc2_ujUIAB",
        "outputId": "20c7eb86-afac-4619-c026-4c31946768ff"
      },
      "source": [
        "v = np.array([1.03,X[3][0],1.02,X[4][0]])\n",
        "a = np.array([0,X[0][0],X[1][0],X[2][0]])\n",
        "#valores calculados\n",
        "P = potP(v,a,nbarras,Y)\n",
        "Q = potQ(v,a,nbarras,Y)\n",
        "\n",
        "print('As potências Ativas:')\n",
        "print(np.round(P,3), '\\n')\n",
        "print('As potências Reativas:')\n",
        "print(np.round(Q,3))\n",
        "\n"
      ],
      "execution_count": null,
      "outputs": [
        {
          "output_type": "stream",
          "text": [
            "As potências Ativas:\n",
            "[ 2.439 -1.     3.6   -5.   ] \n",
            "\n",
            "As potências Reativas:\n",
            "[-0.638 -0.5    0.788 -1.   ]\n"
          ],
          "name": "stdout"
        }
      ]
    },
    {
      "cell_type": "code",
      "metadata": {
        "id": "HTll-Zj4ieyl"
      },
      "source": [
        "#funcao que calcula os fluxos nas linhas\n",
        "def skm(v1,v2,v3,v4,b12,b13_1,b13_2,b23,b34):\n",
        "  Y = np.array([[(1.8489-30.7516j),(-0.1249+4.9969j),(-1.724+26.5448j),(0)],\n",
        "                [(-0.1249+4.9969j),(0.3498-14.2818j),(-0.2249+9.9949j),(0)],\n",
        "                [(-1.724+26.5448j),(-0.2249+9.9949j),(2.3487-55.3517j),(-0.3998+19.992j)],\n",
        "                [(0),(0),(-0.3998+19.992j),(0.3998-19.772j)]])\n",
        "  S12 = np.conj(v1)*(-(Y[0][1])*(v1-v2)+(b12)*(v1))\n",
        "  S131 = np.conj(v1)*(-(Y[0][2])*(v1-v3)+(b13_1)*(v1))\n",
        "  S132 = np.conj(v1)*(-(Y[0][2])*(v1-v2)+(b13_2)*(v1))\n",
        "  S23 = np.conj(v2)*(-(Y[1][2])*(v2-v3)+(b23)*(v2))\n",
        "  S34 = np.conj(v3)*(-(Y[2][3])*(v3-v4)+(b34)*(v3))\n",
        "  Sr = np.array([[S12],[S131],[S132],[S23],[S34]])\n",
        "  return Sr\n",
        "\n"
      ],
      "execution_count": null,
      "outputs": []
    },
    {
      "cell_type": "code",
      "metadata": {
        "colab": {
          "base_uri": "https://localhost:8080/"
        },
        "id": "DsaiiUldTTiE",
        "outputId": "b2d83ddb-7479-4b67-f317-3e7e09a6692e"
      },
      "source": [
        "Sramos = skm(1.03,(1.0301-0.111j),(1.0178-0.0675j),(0.8856-0.3036j),0.54j,0.82j,0.22j,0.88j,0.44j)\n",
        "Sline = np.conj(Sramos)\n",
        "print(Sline)\n",
        "\n",
        "Stot = np.sum(Sline)\n",
        "print('\\n',Stot)"
      ],
      "execution_count": null,
      "outputs": [
        {
          "output_type": "stream",
          "text": [
            "[[ 0.57128271-0.5876805j ]\n",
            " [ 1.867191  -0.65623714j]\n",
            " [ 3.03468941-0.43323703j]\n",
            " [-0.43028347-0.75994715j]\n",
            " [ 5.02995063+1.81393052j]]\n",
            "\n",
            " (10.07283028941-0.6231712984420006j)\n"
          ],
          "name": "stdout"
        }
      ]
    }
  ]
}