{
  "nbformat": 4,
  "nbformat_minor": 0,
  "metadata": {
    "colab": {
      "name": "fluxo_rapido.ipynb",
      "provenance": [],
      "authorship_tag": "ABX9TyOH1Ok3+lmWrSPiNzeT6S9J",
      "include_colab_link": true
    },
    "kernelspec": {
      "name": "python3",
      "display_name": "Python 3"
    },
    "language_info": {
      "name": "python"
    }
  },
  "cells": [
    {
      "cell_type": "markdown",
      "metadata": {
        "id": "view-in-github",
        "colab_type": "text"
      },
      "source": [
        "<a href=\"https://colab.research.google.com/github/luisfgb/ET720/blob/main/fluxo_rapido.ipynb\" target=\"_parent\"><img src=\"https://colab.research.google.com/assets/colab-badge.svg\" alt=\"Open In Colab\"/></a>"
      ]
    },
    {
      "cell_type": "markdown",
      "metadata": {
        "id": "u0PU0lXDNFV7"
      },
      "source": [
        "## **Fluxo de carga desacoplado rápido**"
      ]
    },
    {
      "cell_type": "code",
      "metadata": {
        "id": "Q78lLkjnM9eD"
      },
      "source": [
        "import numpy as np"
      ],
      "execution_count": null,
      "outputs": []
    },
    {
      "cell_type": "code",
      "metadata": {
        "id": "ZUcWWOPgeq-w"
      },
      "source": [
        "#INSERIR O NUMERO DE BARRAS\n",
        "nbarras = 3"
      ],
      "execution_count": null,
      "outputs": []
    },
    {
      "cell_type": "markdown",
      "metadata": {
        "id": "B53n8KiNew2S"
      },
      "source": [
        "**Matriz Admitância**"
      ]
    },
    {
      "cell_type": "code",
      "metadata": {
        "id": "gKmsrJkuevZ2"
      },
      "source": [
        "#admitância\n",
        "def adm(nbarras):\n",
        "  Y = np.zeros((nbarras,nbarras), dtype=complex)\n",
        "  for i in range(nbarras):\n",
        "    for j in range(nbarras):\n",
        "      if (Y[j][i]==0):\n",
        "        if j==i:\n",
        "          print(f'----------\\nPara Y{i+1}{j+1}: ')\n",
        "          nconn = int(input(f'Qual o numero de conexões da barra {i+1}: '))\n",
        "          for k in range(nconn):\n",
        "            rkm = float(input(f'Insira r{k+1}: '))\n",
        "            xkm = float(input(f'Insira x{k+1}: '))\n",
        "            zkm = np.complex(rkm,xkm)\n",
        "            b = float(input(f'Insira b{i+1}{k+2}: '))\n",
        "            bkm = np.complex(0,b)\n",
        "            if (zkm!=0):\n",
        "              Y[i][j] = Y[i][j] + ((1/zkm)+(bkm/2))\n",
        "        else:\n",
        "          print(f'---------\\nPara Y{i+1}{j+1}: ')\n",
        "          ncon = int(input(f'Número de conexões {i+1}{j+1}: '))\n",
        "          for k in range(ncon):\n",
        "            rkm = float(input(f'Insira r{i+1}{j+1}: '))\n",
        "            xkm = float(input(f'Insira x{i+1}{j+1}: '))\n",
        "            zkm = np.complex(rkm,xkm)\n",
        "            if (zkm!=0):\n",
        "              ykm = (1/zkm)\n",
        "              Y[i][j] = Y[i][j] -(ykm)\n",
        "      else:\n",
        "        Y[i][j] = Y[j][i]      \n",
        "  return Y "
      ],
      "execution_count": null,
      "outputs": []
    },
    {
      "cell_type": "code",
      "metadata": {
        "id": "KxkAh-OMe0JZ",
        "colab": {
          "base_uri": "https://localhost:8080/"
        },
        "outputId": "f5a6570e-ec43-4f53-a911-453f5c0bcaf6"
      },
      "source": [
        "#matriz admitância \n",
        "Y = adm(nbarras)\n",
        "print('Y:\\n',Y)"
      ],
      "execution_count": null,
      "outputs": [
        {
          "output_type": "stream",
          "text": [
            "----------\n",
            "Para Y11: \n",
            "Qual o numero de conexões da barra 1: 2\n",
            "Insira r1: 0.01\n",
            "Insira x1: 0.05\n",
            "Insira b12: 0.2\n",
            "Insira r2: 0.01\n",
            "Insira x2: 0.04\n",
            "Insira b13: 0.2\n",
            "---------\n",
            "Para Y12: \n",
            "Número de conexões 12: 1\n",
            "Insira r12: 0.01\n",
            "Insira x12: 0.05\n",
            "---------\n",
            "Para Y13: \n",
            "Número de conexões 13: 1\n",
            "Insira r13: 0.01\n",
            "Insira x13: 0.04\n",
            "----------\n",
            "Para Y22: \n",
            "Qual o numero de conexões da barra 2: 3\n",
            "Insira r1: 0.01\n",
            "Insira x1: 0.05\n",
            "Insira b22: 0.2\n",
            "Insira r2: 0.04\n",
            "Insira x2: 0.29\n",
            "Insira b23: 0.3\n",
            "Insira r3: 0.04\n",
            "Insira x3: 0.2\n",
            "Insira b24: 0.1\n",
            "---------\n",
            "Para Y23: \n",
            "Número de conexões 23: 2\n",
            "Insira r23: 0.04\n",
            "Insira x23: 0.29\n",
            "Insira r23: 0.04\n",
            "Insira x23: 0.2\n",
            "----------\n",
            "Para Y33: \n",
            "Qual o numero de conexões da barra 3: 3\n",
            "Insira r1: 0.01\n",
            "Insira x1: 0.04\n",
            "Insira b32: 0.2\n",
            "Insira r2: 0.04\n",
            "Insira x2: 0.29\n",
            "Insira b33: 0.3\n",
            "Insira r3: 0.04\n",
            "Insira x3: 0.2\n",
            "Insira b34: 0.1\n",
            "Y:\n",
            " [[ 9.72850679-42.560181j   -3.84615385+19.23076923j\n",
            "  -5.88235294+23.52941176j]\n",
            " [-3.84615385+19.23076923j  5.27443677-27.12235885j\n",
            "  -1.42828292 +8.19158962j]\n",
            " [-5.88235294+23.52941176j -1.42828292 +8.19158962j\n",
            "   7.31063586-31.42100139j]]\n"
          ],
          "name": "stdout"
        }
      ]
    },
    {
      "cell_type": "markdown",
      "metadata": {
        "id": "VmijzT2qe0l4"
      },
      "source": [
        "**Fórmula para cálculo da potência**"
      ]
    },
    {
      "cell_type": "code",
      "metadata": {
        "id": "LFVNL134NyvD"
      },
      "source": [
        "#potências\n",
        "def potP(v,a,nbarras,Y):\n",
        "  P = np.zeros(nbarras)\n",
        "  for i in range(nbarras):\n",
        "    for j in range(nbarras):\n",
        "      P[i] = P[i] + ((v[i]*v[j])*(Y[i][j].real*np.cos(a[i]-a[j]) + Y[i][j].imag*np.sin(a[i]-a[j])))\n",
        "  return P\n",
        "\n",
        "def potQ(v,a,nbarras,Y):\n",
        "  Q = np.zeros(nbarras)\n",
        "  for i in range(nbarras):\n",
        "    for j in range(nbarras):\n",
        "      Q[i] = Q[i] + ((v[i]*v[j])*(Y[i][j].real*np.sin(a[i]-a[j]) - Y[i][j].imag*np.cos(a[i]-a[j]))) \n",
        "  return Q"
      ],
      "execution_count": null,
      "outputs": []
    },
    {
      "cell_type": "markdown",
      "metadata": {
        "id": "PTsE1RejgNzK"
      },
      "source": [
        "**Cálculo das Matrizes B' e B''**"
      ]
    },
    {
      "cell_type": "code",
      "metadata": {
        "id": "Td2RNsduOKHR"
      },
      "source": [
        "def bkkline(index1,index2,nconn):\n",
        "  i=0\n",
        "  x = np.zeros(nconn)\n",
        "  while i<=(nconn-1):\n",
        "    print('Insira xkm para b',index1,index2)\n",
        "    x[i] = (float(input('Xkm:')))\n",
        "    i = i+1\n",
        "  bkk=0\n",
        "  for k in range(nconn):\n",
        "    bkk = bkk + (1/x[k])\n",
        "  return bkk \n",
        "\n",
        "def bkmline(xkm):\n",
        "  if xkm == 0:\n",
        "    return 0\n",
        "  else:\n",
        "    return -(1/xkm)"
      ],
      "execution_count": null,
      "outputs": []
    },
    {
      "cell_type": "code",
      "metadata": {
        "id": "WU4R1Yy5TN9C"
      },
      "source": [
        "#matriz B'\n",
        "def Bline():\n",
        "  tam = int(input('Defina o tamanho da matriz Bl: '))\n",
        "  Bl=np.zeros((tam,tam))\n",
        "  for i in range(tam):\n",
        "    for k in range(tam):\n",
        "      if (Bl[k][i]==0):\n",
        "        if i==k:\n",
        "          Bl[i][k] = bkkline(i,k,int(input(f'\\nNumero de conexoes Bkk {i+1}: ',)))\n",
        "        else:\n",
        "          Bl[i][k] = bkmline(float(input(f'Insira X{i}{k}: ')))\n",
        "      else:\n",
        "        Bl[i][k] = Bl[k][i]\n",
        "  return Bl\n",
        "\n",
        "#matriz B''\n",
        "def Blline(Y):\n",
        "  tam = int(input('Defina o tamanho da matriz Bll: '))\n",
        "  Bll = np.zeros((tam,tam))\n",
        "  for i in range(tam):\n",
        "    for j in range(tam):\n",
        "      if (Bll[j][i]==0):\n",
        "        if (i==j):\n",
        "          index = int(input(f'\\nIndice do elemento Bll{i}{j}: '))\n",
        "          Bll[i][j] = -(Y[index-1][index-1].imag)\n",
        "        else:\n",
        "          index1 = int(input(f'\\nIndice 1 do elemento Bll{i}{j}: '))\n",
        "          index2 = int(input(f'Indice 2 do elemento Bll{i}{j}: '))\n",
        "          Bll[i][j] = -(Y[index1-1][index2-1].imag)\n",
        "      else:\n",
        "        Bll[i][j] = Bll[j][i]\n",
        "  return Bll\n",
        "\n",
        "\n"
      ],
      "execution_count": null,
      "outputs": []
    },
    {
      "cell_type": "code",
      "metadata": {
        "colab": {
          "base_uri": "https://localhost:8080/"
        },
        "id": "kpl1ppkoCoWe",
        "outputId": "4868ca2b-f4f7-42bf-d8bc-f5dc49a5e7b9"
      },
      "source": [
        "#determinando as matrizes\n",
        "Bl = Bline()\n",
        "Bll = Blline(Y)\n",
        "print('\\nBl:\\n',Bl,'\\n')\n",
        "print('\\nBll:\\n',Bll,'\\n')"
      ],
      "execution_count": null,
      "outputs": [
        {
          "output_type": "stream",
          "text": [
            "Defina o tamanho da matriz Bl: 2\n",
            "\n",
            "Numero de conexoes Bkk 1: 2\n",
            "Insira xkm para b 0 0\n",
            "Xkm:0.05\n",
            "Insira xkm para b 0 0\n",
            "Xkm:0.04\n",
            "Insira X01: 0.05\n",
            "\n",
            "Numero de conexoes Bkk 2: 3\n",
            "Insira xkm para b 1 1\n",
            "Xkm:0.05\n",
            "Insira xkm para b 1 1\n",
            "Xkm:0.29\n",
            "Insira xkm para b 1 1\n",
            "Xkm:0.2\n",
            "Defina o tamanho da matriz Bll: 1\n",
            "\n",
            "Indice do elemento Bll00: 1\n",
            "\n",
            "Bl:\n",
            " [[ 45.         -20.        ]\n",
            " [-20.          28.44827586]] \n",
            "\n",
            "\n",
            "Bll:\n",
            " [[42.560181]] \n",
            "\n"
          ],
          "name": "stdout"
        }
      ]
    },
    {
      "cell_type": "markdown",
      "metadata": {
        "id": "-QrKCv8NJTEW"
      },
      "source": [
        "**Iterações**"
      ]
    },
    {
      "cell_type": "code",
      "metadata": {
        "colab": {
          "base_uri": "https://localhost:8080/"
        },
        "id": "tn5EBkEsn5xK",
        "outputId": "a4faba9e-6067-46e6-8dca-d64076757550"
      },
      "source": [
        "\n",
        "#chutes\n",
        "#teta1, teta2\n",
        "X1 = np.array([[0],[0]])\n",
        "#v1\n",
        "X2 = np.array([[1]])\n",
        "\n",
        "v = [X2[0][0],1.015,1.010]\n",
        "a = [X1[0][0],X1[1][0],0.1745]\n",
        "\n",
        "#valores esperados (p1,p2,q1)\n",
        "Pesp = np.array([[-2.9],[3]])\n",
        "Qesp = np.array([[-1]])\n",
        "\n",
        "#calculando as potencias ativas\n",
        "P = potP(v,a,nbarras,Y)\n",
        "Q = potQ(v,a,nbarras,Y)\n",
        "pcalc = np.array([[P[0]],[P[1]]])\n",
        "delP = Pesp-pcalc\n",
        "#pn está especifico!!!!!! --> v1,v2\n",
        "pn = np.array([[v[0]],[v[1]]])\n",
        "delPn = delP/pn\n",
        "print('A diferença entre as potencias ativas esperadas e as calculadas é:\\n')\n",
        "print(delP,'\\n')\n",
        "\n",
        "if (np.max(abs(delP))<=0.01):\n",
        "  print('Os resultados são: \\n')\n",
        "  print('para os ângulos: \\n',X1,'\\n')\n",
        "else:\n",
        "  #meia iteração ativa\n",
        "  #obtendo novos angulos\n",
        "  Blinv = np.linalg.inv(Bl)\n",
        "  newX1 = X1 + (Blinv.dot(delPn))\n",
        "  print('o novo chute dos angulos:','\\n',newX1,'\\n')\n",
        "  X1 = newX1\n",
        "a = [X1[0][0],X1[1][0],0.1745] \n",
        "\n",
        "#obtendo Q para novos angulos\n",
        "Q = potQ(v,a,nbarras,Y)\n",
        "qcalc = np.array([Q[0]])\n",
        "delQ = Qesp - qcalc\n",
        "\n",
        "#qn está especifico!!!!!! -->V1\n",
        "qn = np.array([v[0]])\n",
        "delQn = delQ/qn\n",
        "print('A diferença entre as potencias reativas esperadas e as calculadas é:\\n')\n",
        "print(delQ,'\\n')\n",
        "\n",
        "if (np.max(abs(delQ))<0.01):\n",
        "  print('Os resultados são: \\n')\n",
        "  print('para as tensões: \\n',X2,'\\n')\n",
        "else:\n",
        "  #meia iteração reativa\n",
        "  Bllinv = np.linalg.inv(Bll)\n",
        "  newX2 = X2 + (Bllinv.dot(delQn))\n",
        "  print('\\n', 'o novo chute das tensoes','\\n',newX2)\n",
        "  X2 = newX2\n",
        "  \n"
      ],
      "execution_count": null,
      "outputs": [
        {
          "output_type": "stream",
          "text": [
            "A diferença entre as potencias ativas esperadas e as calculadas é:\n",
            "\n",
            "[[1.25221728]\n",
            " [4.36991464]] \n",
            "\n",
            "o novo chute dos angulos: \n",
            " [[0.13830258]\n",
            " [0.24856994]] \n",
            "\n",
            "A diferença entre as potencias reativas esperadas e as calculadas é:\n",
            "\n",
            "[[-1.05496076]] \n",
            "\n",
            "\n",
            " o novo chute das tensoes \n",
            " [[0.97521249]]\n"
          ],
          "name": "stdout"
        }
      ]
    },
    {
      "cell_type": "code",
      "metadata": {
        "colab": {
          "base_uri": "https://localhost:8080/"
        },
        "id": "tgh5OOXpMMaZ",
        "outputId": "0c301d9e-cea8-41fe-dafc-7509f4239672"
      },
      "source": [
        "v = [X2[0][0],1.015,1.010]\n",
        "a = [X1[0][0],X1[1][0],0.1745]\n",
        "\n",
        "#calculando as potencias ativas\n",
        "P = potP(v,a,nbarras,Y)\n",
        "Q = potQ(v,a,nbarras,Y)\n",
        "pcalc = np.array([[P[0]],[P[1]]])\n",
        "delP = Pesp-pcalc\n",
        "#pn está especifico!!!!!! --> v1,v2\n",
        "pn = np.array([[v[0]],[v[1]]])\n",
        "delPn = delP/pn\n",
        "print('A diferença entre as potencias ativas esperadas e as calculadas é:\\n')\n",
        "print(delP,'\\n')\n",
        "\n",
        "if (np.max(abs(delP))<=0.01):\n",
        "  print('Os resultados são: \\n')\n",
        "  print('para os ângulos: \\n',X1,'\\n')\n",
        "else:\n",
        "  #meia iteração ativa\n",
        "  #obtendo novos angulos\n",
        "  Blinv = np.linalg.inv(Bl)\n",
        "  newX1 = X1 + (Blinv.dot(delPn))\n",
        "  print('o novo chute dos angulos:','\\n',newX1,'\\n')\n",
        "  X1 = newX1\n",
        "a = [X1[0][0],X1[1][0],0.1745]\n",
        "\n",
        "#obtendo Q para novos angulos\n",
        "Q = potQ(v,a,nbarras,Y)\n",
        "qcalc = np.array([Q[0]])\n",
        "delQ = Qesp - qcalc\n",
        "\n",
        "#qn está especifico!!!!!! -->V1\n",
        "qn = np.array([v[0]])\n",
        "delQn = delQ/qn\n",
        "print('A diferença entre as potencias reativas esperadas e as calculadas é:\\n')\n",
        "print(delQ,'\\n')\n",
        "\n",
        "if (np.max(abs(delQ))<0.01):\n",
        "  print('Os resultados são: \\n')\n",
        "  print('para as tensões: \\n',X2,'\\n')\n",
        "else:\n",
        "  #meia iteração reativa\n",
        "  Bllinv = np.linalg.inv(Bll)\n",
        "  newX2 = X2 + (Bllinv.dot(delQn))\n",
        "  print('\\n', 'o novo chute das tensoes','\\n',newX2)\n",
        "  X2 = newX2"
      ],
      "execution_count": null,
      "outputs": [
        {
          "output_type": "stream",
          "text": [
            "A diferença entre as potencias ativas esperadas e as calculadas é:\n",
            "\n",
            "[[0.35532614]\n",
            " [0.09411713]] \n",
            "\n",
            "o novo chute dos angulos: \n",
            " [[0.15218608]\n",
            " [0.26158993]] \n",
            "\n",
            "A diferença entre as potencias reativas esperadas e as calculadas é:\n",
            "\n",
            "[[0.07009842]] \n",
            "\n",
            "\n",
            " o novo chute das tensoes \n",
            " [[0.9769014]]\n"
          ],
          "name": "stdout"
        }
      ]
    },
    {
      "cell_type": "code",
      "metadata": {
        "colab": {
          "base_uri": "https://localhost:8080/"
        },
        "id": "yoqEWr72OyXL",
        "outputId": "c7392ba7-be80-44f7-86f7-0fd390a5cfa4"
      },
      "source": [
        "v = [X2[0][0],1.015,1.010]\n",
        "a = [X1[0][0],X1[1][0],0.1745]\n",
        "\n",
        "#calculando as potencias ativas\n",
        "P = potP(v,a,nbarras,Y)\n",
        "Q = potQ(v,a,nbarras,Y)\n",
        "pcalc = np.array([[P[0]],[P[1]]])\n",
        "delP = Pesp-pcalc\n",
        "#pn está especifico!!!!!! --> v1,v2\n",
        "pn = np.array([[v[0]],[v[1]]])\n",
        "delPn = delP/pn\n",
        "print('A diferença entre as potencias ativas esperadas e as calculadas é:\\n')\n",
        "print(delP,'\\n')\n",
        "\n",
        "if (np.max(abs(delP))<=0.01):\n",
        "  print('Os resultados são: \\n')\n",
        "  print('para os ângulos: \\n',X1,'\\n')\n",
        "else:\n",
        "  #meia iteração ativa\n",
        "  #obtendo novos angulos\n",
        "  Blinv = np.linalg.inv(Bl)\n",
        "  newX1 = X1 + (Blinv.dot(delPn))\n",
        "  print('o novo chute dos angulos:','\\n',newX1,'\\n')\n",
        "  X1 = newX1\n",
        "a = [X1[0][0],X1[1][0],0.1745]\n",
        "\n",
        "#obtendo Q para novos angulos\n",
        "Q = potQ(v,a,nbarras,Y)\n",
        "qcalc = np.array([Q[0]])\n",
        "delQ = Qesp - qcalc\n",
        "\n",
        "#qn está especifico!!!!!! -->V1\n",
        "qn = np.array([v[0]])\n",
        "delQn = delQ/qn\n",
        "print('A diferença entre as potencias reativas esperadas e as calculadas é:\\n')\n",
        "print(delQ,'\\n')\n",
        "\n",
        "if (np.max(abs(delQ))<0.01):\n",
        "  print('Os resultados são: \\n')\n",
        "  print('para as tensões: \\n',X2,'\\n')\n",
        "else:\n",
        "  #meia iteração reativa\n",
        "  Bllinv = np.linalg.inv(Bll)\n",
        "  newX2 = X2 + (Bllinv.dot(delQn))\n",
        "  print('\\n', 'o novo chute das tensoes','\\n',newX2)\n",
        "  X2 = newX2"
      ],
      "execution_count": null,
      "outputs": [
        {
          "output_type": "stream",
          "text": [
            "A diferença entre as potencias ativas esperadas e as calculadas é:\n",
            "\n",
            "[[0.00908867]\n",
            " [0.00325438]] \n",
            "\n",
            "Os resultados são: \n",
            "\n",
            "para os ângulos: \n",
            " [[0.15218608]\n",
            " [0.26158993]] \n",
            "\n",
            "A diferença entre as potencias reativas esperadas e as calculadas é:\n",
            "\n",
            "[[0.00173183]] \n",
            "\n",
            "Os resultados são: \n",
            "\n",
            "para as tensões: \n",
            " [[0.9769014]] \n",
            "\n"
          ],
          "name": "stdout"
        }
      ]
    },
    {
      "cell_type": "code",
      "metadata": {
        "colab": {
          "base_uri": "https://localhost:8080/"
        },
        "id": "ckdMyCC5HSN_",
        "outputId": "c635d281-b137-4afe-cc57-86e6c110eb96"
      },
      "source": [
        "#calculando as magnitudes e angulos\n",
        "#rad*180/pi\n",
        "degrees = np.zeros(2)\n",
        "for i in range(2):\n",
        "  degrees[i] = X1[i][0]*(180/np.pi)\n",
        "print('As magnitudes e angulos das tensões:')\n",
        "print(f'V1 : {X2[0][0]} / {degrees[0]} º')\n",
        "print(f'V2 :1.015 / {degrees[1]} º')\n",
        "print('V3 : 1.010 / 10 º')\n",
        "  "
      ],
      "execution_count": null,
      "outputs": [
        {
          "output_type": "stream",
          "text": [
            "As magnitudes e angulos das tensões:\n",
            "V1 : 0.9769013998928194 / 8.719619917474457 º\n",
            "V2 :1.015 / 14.9879987617116 º\n",
            "V3 : 1.010 / 10 º\n"
          ],
          "name": "stdout"
        }
      ]
    },
    {
      "cell_type": "markdown",
      "metadata": {
        "id": "17NT90gXGw2T"
      },
      "source": [
        "### **Cálculo das Injeções de Potência e Perdas**\n"
      ]
    },
    {
      "cell_type": "code",
      "metadata": {
        "colab": {
          "base_uri": "https://localhost:8080/"
        },
        "id": "71tsLKC5PsTb",
        "outputId": "727b499b-efff-43e8-c57d-c4995a91efe2"
      },
      "source": [
        "v = [X2[0][0],1.015,1.010]\n",
        "a = [X1[0][0],X1[1][0],0.1745]\n",
        "\n",
        "#valores calculados\n",
        "P = potP(v,a,nbarras,Y)\n",
        "Q = potQ(v,a,nbarras,Y)\n",
        "print('As potências Ativas:')\n",
        "print(np.round(P,4), '\\n')\n",
        "print('As potências Reativas:')\n",
        "print(np.round(Q,4))"
      ],
      "execution_count": null,
      "outputs": [
        {
          "output_type": "stream",
          "text": [
            "As potências Ativas:\n",
            "[-2.9091  2.9967 -0.016 ] \n",
            "\n",
            "As potências Reativas:\n",
            "[-1.0017  0.0782  0.4746]\n"
          ],
          "name": "stdout"
        }
      ]
    },
    {
      "cell_type": "code",
      "metadata": {
        "colab": {
          "base_uri": "https://localhost:8080/"
        },
        "id": "GZZI5RdxHmnl",
        "outputId": "84394dd9-936b-4802-c09d-f2055921dcb8"
      },
      "source": [
        "#cálculo das tensoes fasoriais\n",
        "V = np.array([X2[0][0],1.015,1.010])\n",
        "rad = np.array([X1[0][0],X1[1][0],0.1745])\n",
        "E = []\n",
        "for i in range(3):\n",
        "  E.append(V[i]*(np.exp(np.complex(0,rad[i])))) \n",
        "print(E)"
      ],
      "execution_count": null,
      "outputs": [
        {
          "output_type": "stream",
          "text": [
            "[(0.9656104050522887+0.14809757178058422j), (0.9804697178912769+0.2624959662512925j), (0.9946616045780811+0.17535191010695328j)]\n"
          ],
          "name": "stdout"
        }
      ]
    },
    {
      "cell_type": "code",
      "metadata": {
        "id": "54xHJp6ZBlU5"
      },
      "source": [
        "#funcao que calcula os fluxos nas linhas\n",
        "\n",
        "def skm(v1,v2,v3,b12,b13,b23,b32,Y):\n",
        "  S12 = np.conj(v1)*(-(Y[0][1])*(v1-v2)+(b12/2)*(v1))\n",
        "  S21 = np.conj(v2)*(-(Y[1][0])*(v2-v1)+(b12/2)*(v2))\n",
        "  S13 = np.conj(v1)*(-(Y[0][2])*(v1-v3)+(b13/2)*(v1))\n",
        "  S31 = np.conj(v3)*(-(Y[2][0])*(v3-v1)+(b13/2)*(v3))\n",
        "  S231 = np.conj(v1)*((1/(0.04+0.29j))*(v1-v3)+(b23/2)*(v1))\n",
        "  S321 = np.conj(v3)*((1/(0.04+0.29j))*(v3-v1)+(b23/2)*(v3))\n",
        "  S232 = np.conj(v2)*(((1/(0.04+0.2j)))*(v2-v3)+(b32/2)*(v2))\n",
        "  S322 = np.conj(v3)*(((1/(0.04+0.2j)))*(v3-v2)+(b32/2)*(v3))\n",
        "  Sr = np.array([[S12+S21],[S13+S31],[S231+S321],[S232+S322]])\n",
        "  print(S12)\n",
        "  return Sr"
      ],
      "execution_count": null,
      "outputs": []
    },
    {
      "cell_type": "code",
      "metadata": {
        "colab": {
          "base_uri": "https://localhost:8080/"
        },
        "id": "RXz8Li4cJP9n",
        "outputId": "f57e8543-1cf0-47fd-b450-6b5ebb5cf516"
      },
      "source": [
        "#calculos das perdas\n",
        "Sramos = skm(E[0],E[1],E[2],0.2j,0.2j,0.3j,0.1j,Y)\n",
        "Sline = np.conj(Sramos)\n",
        "print('As perdas por ramos são: ')\n",
        "print(Sline)\n",
        "Sptot = np.sum(Sline)\n",
        "print('\\n As perdas totais são: ',Sptot)\n",
        "S = []\n",
        "for k in range(3):\n",
        "  S.append(np.complex(P[k],Q[k]))\n",
        "print('\\n As injeções de potência em cada barra: ',np.round(S,3))\n",
        "\n",
        "print('\\n O delta S é:',np.round(np.sum(S)-Sptot,3))"
      ],
      "execution_count": null,
      "outputs": [
        {
          "output_type": "stream",
          "text": [
            "(-2.20234111880005+0.28077404127051314j)\n",
            "As perdas por ramos são: \n",
            "[[0.05118381+0.05746294j]\n",
            " [0.00933395-0.16010784j]\n",
            " [0.00074062-0.29079598j]\n",
            " [0.00749567-0.0650379j ]]\n",
            "\n",
            " As perdas totais são:  (0.06875404873540958-0.4584787876220074j)\n",
            "\n",
            " As injeções de potência em cada barra:  [-2.909-1.002j  2.997+0.078j -0.016+0.475j]\n",
            "\n",
            " O delta S é: (0.003+0.01j)\n"
          ],
          "name": "stdout"
        }
      ]
    }
  ]
}