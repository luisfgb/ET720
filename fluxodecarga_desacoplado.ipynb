{
  "nbformat": 4,
  "nbformat_minor": 0,
  "metadata": {
    "colab": {
      "name": "fluxodecarga_desacoplado.ipynb",
      "provenance": [],
      "authorship_tag": "ABX9TyOLZlJIeES8fmGeutK9wWRk",
      "include_colab_link": true
    },
    "kernelspec": {
      "name": "python3",
      "display_name": "Python 3"
    },
    "language_info": {
      "name": "python"
    }
  },
  "cells": [
    {
      "cell_type": "markdown",
      "metadata": {
        "id": "view-in-github",
        "colab_type": "text"
      },
      "source": [
        "<a href=\"https://colab.research.google.com/github/luisfgb/ET720/blob/main/fluxodecarga_desacoplado.ipynb\" target=\"_parent\"><img src=\"https://colab.research.google.com/assets/colab-badge.svg\" alt=\"Open In Colab\"/></a>"
      ]
    },
    {
      "cell_type": "markdown",
      "metadata": {
        "id": "_n97Ugpg6z1g"
      },
      "source": [
        "# **ET720 - Exercicio 2**"
      ]
    },
    {
      "cell_type": "code",
      "metadata": {
        "id": "LwLx5aFC6xdN"
      },
      "source": [
        "import numpy as np"
      ],
      "execution_count": null,
      "outputs": []
    },
    {
      "cell_type": "markdown",
      "metadata": {
        "id": "4ZrLaQOSADk5"
      },
      "source": [
        "**Matriz Admitância**"
      ]
    },
    {
      "cell_type": "code",
      "metadata": {
        "id": "L_CuVjTJJzBi"
      },
      "source": [
        "#INSERIR NUMERO DE BARRAS\n",
        "nbarras = 4"
      ],
      "execution_count": null,
      "outputs": []
    },
    {
      "cell_type": "code",
      "metadata": {
        "id": "OY_ajohQ_xSD"
      },
      "source": [
        "#admitância\n",
        "def adm(nbarras):\n",
        "  Y = np.zeros((nbarras,nbarras), dtype=complex)\n",
        "  print('Se houver Mais de uma conexao entre duas barras iguais somar os valores antes e inserir a soma!!!\\n')\n",
        "  for i in range(nbarras):\n",
        "    for j in range(nbarras):\n",
        "      if (Y[j][i]==0):\n",
        "        if j==i:\n",
        "          print(f'----------\\nPara Y{i+1}{j+1}: ')\n",
        "          for k in range(nbarras-1):\n",
        "            rkm = float(input(f'Insira r{k+1}: '))\n",
        "            xkm = float(input(f'Insira x{k+1}: '))\n",
        "            zkm = np.complex(rkm,xkm)\n",
        "            b = float(input(f'Insira b{i+1}{k+2}: '))\n",
        "            bkm = np.complex(0,b)\n",
        "            if (zkm!=0):\n",
        "              Y[i][j] = Y[i][j] + ((1/zkm)+(bkm/2))\n",
        "        else:\n",
        "          print(f'---------\\nPara Y{i+1}{j+1}: ')\n",
        "          rkm = float(input(f'Insira r{i+1}{j+1}: '))\n",
        "          xkm = float(input(f'Insira x{i+1}{j+1}: '))\n",
        "          zkm = np.complex(rkm,xkm)\n",
        "          if (zkm!=0):\n",
        "            ykm = (1/zkm)\n",
        "            Y[i][j] = -(ykm)\n",
        "      else:\n",
        "        Y[i][j] = Y[j][i]      \n",
        "  return Y    "
      ],
      "execution_count": null,
      "outputs": []
    },
    {
      "cell_type": "code",
      "metadata": {
        "colab": {
          "base_uri": "https://localhost:8080/"
        },
        "id": "uDnUk-JIJs25",
        "outputId": "2c3d58fd-136a-4cf7-8451-81587e4a5af9"
      },
      "source": [
        "Y = adm(nbarras)"
      ],
      "execution_count": null,
      "outputs": [
        {
          "output_type": "stream",
          "text": [
            "Se houver Mais de uma conexao entre duas barras iguais somar os valores antes e inserir a soma!!!\n",
            "\n",
            "----------\n",
            "Para Y11: \n",
            "Insira r1: 0.005\n",
            "Insira x1: 0.2\n",
            "Insira b12: 0.54\n",
            "Insira r2: 0.0024365\n",
            "Insira x2: 0.037514\n",
            "Insira b13: 1.04\n",
            "Insira r3: 0\n",
            "Insira x3: 0\n",
            "Insira b14: 0\n",
            "---------\n",
            "Para Y12: \n",
            "Insira r12: 0.005\n",
            "Insira x12: 0.2\n",
            "---------\n",
            "Para Y13: \n",
            "Insira r13: 0.0024365\n",
            "Insira x13: 0.037514\n",
            "---------\n",
            "Para Y14: \n",
            "Insira r14: 0\n",
            "Insira x14: 0\n",
            "----------\n",
            "Para Y22: \n",
            "Insira r1: 0.005\n",
            "Insira x1: 0.2\n",
            "Insira b22: 0.54\n",
            "Insira r2: 0.00225\n",
            "Insira x2: 0.1\n",
            "Insira b23: 0.88\n",
            "Insira r3: 0\n",
            "Insira x3: 0\n",
            "Insira b24: 0\n",
            "---------\n",
            "Para Y23: \n",
            "Insira r23: 0.00225\n",
            "Insira x23: 0.1\n",
            "---------\n",
            "Para Y24: \n",
            "Insira r24: 0\n",
            "Insira x24: 0\n",
            "----------\n",
            "Para Y33: \n",
            "Insira r1: 0.0024365\n",
            "Insira x1: 0.037514\n",
            "Insira b32: 1.04\n",
            "Insira r2: 0.00225\n",
            "Insira x2: 0.1\n",
            "Insira b33: 0.88\n",
            "Insira r3: 0.001\n",
            "Insira x3: 0.05\n",
            "Insira b34: 0.44\n",
            "---------\n",
            "Para Y34: \n",
            "Insira r34: 0.001\n",
            "Insira x34: 0.05\n",
            "---------\n",
            "Para Y41: \n",
            "Insira r41: 0\n",
            "Insira x41: 0\n",
            "---------\n",
            "Para Y42: \n",
            "Insira r42: 0\n",
            "Insira x42: 0\n",
            "----------\n",
            "Para Y44: \n",
            "Insira r1: 0.001\n",
            "Insira x1: 0.05\n",
            "Insira b42: 0.44\n",
            "Insira r2: 0\n",
            "Insira x2: 0\n",
            "Insira b43: 0\n",
            "Insira r3: 0\n",
            "Insira x3: 0\n",
            "Insira b44: 0\n"
          ],
          "name": "stdout"
        }
      ]
    },
    {
      "cell_type": "code",
      "metadata": {
        "colab": {
          "base_uri": "https://localhost:8080/"
        },
        "id": "xKrwhq_eLXnO",
        "outputId": "2e81645e-d515-4a6e-e01e-ffe2a46aa983"
      },
      "source": [
        "print(Y)"
      ],
      "execution_count": null,
      "outputs": [
        {
          "output_type": "stream",
          "text": [
            "[[ 1.84897845-30.75161588j -0.12492192 +4.99687695j\n",
            "  -1.72405652+26.54473893j  0.         +0.j        ]\n",
            " [-0.12492192 +4.99687695j  0.34980808-14.28181701j\n",
            "  -0.22488615 +9.99494006j  0.         +0.j        ]\n",
            " [-1.72405652+26.54473893j -0.22488615 +9.99494006j\n",
            "   2.34878274-55.35168219j -0.39984006+19.9920032j ]\n",
            " [ 0.         +0.j          0.         +0.j\n",
            "  -0.39984006+19.9920032j   0.39984006-19.7720032j ]]\n"
          ],
          "name": "stdout"
        }
      ]
    },
    {
      "cell_type": "markdown",
      "metadata": {
        "id": "xXaa1F64AIIh"
      },
      "source": [
        "**Fórmula para cálculo das potências**"
      ]
    },
    {
      "cell_type": "code",
      "metadata": {
        "id": "aayMRsKC_-Ni"
      },
      "source": [
        "#potências\n",
        "def potP(v,a,nbarras,Y):\n",
        "  P = np.zeros(nbarras)\n",
        "  for i in range(nbarras):\n",
        "    for j in range(nbarras):\n",
        "      P[i] = P[i] + ((v[i]*v[j])*(Y[i][j].real*np.cos(a[i]-a[j]) + Y[i][j].imag*np.sin(a[i]-a[j])))\n",
        "  return P\n",
        "\n",
        "def potQ(v,a,nbarras,Y):\n",
        "  Q = np.zeros(nbarras)\n",
        "  for i in range(nbarras):\n",
        "    for j in range(nbarras):\n",
        "      Q[i] = Q[i] + ((v[i]*v[j])*(Y[i][j].real*np.sin(a[i]-a[j]) - Y[i][j].imag*np.cos(a[i]-a[j]))) \n",
        "  return Q"
      ],
      "execution_count": null,
      "outputs": []
    },
    {
      "cell_type": "markdown",
      "metadata": {
        "id": "hlcF7W_dANIg"
      },
      "source": [
        "**Fórmulas para cálculo das Matrizes**"
      ]
    },
    {
      "cell_type": "code",
      "metadata": {
        "id": "dShauUBpAPw-"
      },
      "source": [
        "#definindo a função de H'\n",
        "def Hline(Y,Q,v,a):\n",
        "  tam = int(input('Insira o tamanho da matriz H:'))\n",
        "  Hl = np.zeros((tam,tam), dtype=float)\n",
        "  for i in range(tam):\n",
        "    for j in range(tam):\n",
        "      if (i==j):\n",
        "        index = int(input(f'Índice para a potência do elemento H{i}{j}:'))\n",
        "        aux = (index-1)\n",
        "        Hl[i][j] = -(Q[aux]/v[aux]) - (Y[aux][aux].imag*v[aux])\n",
        "      else:\n",
        "        index1 = int(input(f'Índice 1 para a potência do elemento H{i}{j}:'))\n",
        "        index2 = int(input(f'Índice 2 para a potência do elemento H{i}{j}:'))\n",
        "        aux1 = (index1-1)\n",
        "        aux2 = (index2-1)\n",
        "        Hl[i][j] = (v[aux2]*(Y[aux1][aux2].real*np.sin((a[aux1]-a[aux2]))-Y[aux1][aux2].imag*np.cos((a[aux1]-a[aux2]))))\n",
        "  return Hl\n",
        "\n",
        "#definindo a função de L'\n",
        "def Lline(Y,Q,v,a):\n",
        "  tam = int(input('Insira o tamanho da matriz L:'))\n",
        "  Ll = np.zeros((tam,tam), dtype=float)\n",
        "  for i in range(tam):\n",
        "    for j in range(tam):\n",
        "      if (i==j):\n",
        "        index = int(input(f'Índice para a potência do elemento L{i}{j}:'))\n",
        "        aux = (index-1)\n",
        "        Ll[i][j] = (Q[aux]/v[aux]**2)-(Y[aux][aux].imag)\n",
        "      else:\n",
        "        index1 = int(input(f'Índice 1 para a potência do elemento H{i}{j}:'))\n",
        "        index2 = int(input(f'Índice 2 para a potência do elemento H{i}{j}:'))\n",
        "        aux1 = (index1-1)\n",
        "        aux2 = (index2-1)\n",
        "        Ll[i][j] = (Y[aux1][aux2].real*np.sin((a[aux1]-a[aux2]))-Y[aux1][aux2].imag*np.cos((a[aux1]-a[aux2])))\n",
        "  return Ll   "
      ],
      "execution_count": null,
      "outputs": []
    },
    {
      "cell_type": "markdown",
      "metadata": {
        "id": "D6vZfB8nAQAH"
      },
      "source": [
        "**Iterações**"
      ]
    },
    {
      "cell_type": "code",
      "metadata": {
        "colab": {
          "base_uri": "https://localhost:8080/"
        },
        "id": "3XLspvMJ_uqn",
        "outputId": "0bc93646-a9b5-4621-ad9c-d7238844315b"
      },
      "source": [
        "\n",
        "#chutes\n",
        "#teta2, teta3, teta4\n",
        "X1 = np.array([[0],[0],[0]])\n",
        "#v2 , v4\n",
        "X2 = np.array([[1],[1]])\n",
        "\n",
        "v = [1.03,X2[0][0],1.02,X2[1][0]]\n",
        "a = [0,X1[0][0],X1[1][0],X1[2][0]]\n",
        "\n",
        "#valores esperados (p2,p3,p4,q2,q4)\n",
        "Pesp = np.array([[-1],[3.6],[-5]])\n",
        "Qesp = np.array([[-0.5],[-1]])\n",
        "\n",
        "#calculando as potencias ativas\n",
        "P = potP(v,a,nbarras,Y)\n",
        "Q = potQ(v,a,nbarras,Y)\n",
        "pcalc = np.array([[P[1]],[P[2]],[P[3]]])\n",
        "delP = Pesp-pcalc\n",
        "#pn está especifico!!!!!!\n",
        "pn = np.array([[v[1]],[v[2]],[v[3]]])\n",
        "delPn = delP/pn\n",
        "print('A diferença entre as potencias ativas esperadas e as calculadas é:\\n')\n",
        "print(delP,'\\n')\n",
        "\n",
        "if (np.max(abs(delP))<=0.0001):\n",
        "  print('Os resultados são: \\n')\n",
        "  print('para os ângulos: \\n',X1,'\\n')\n",
        "else:\n",
        "  #meia iteração ativa\n",
        "  H = Hline(Y,Q,v,a)\n",
        "  print('\\nH:\\n',H,'\\n')\n",
        "  # obtendo novos angulos\n",
        "  Hinv = np.linalg.inv(H)\n",
        "  newX1 = X1 + (Hinv.dot(delPn))\n",
        "  print('o novo chute dos angulos:','\\n',newX1,'\\n')\n",
        "  X1 = newX1\n",
        "a = [0,X1[0][0],X1[1][0],X1[2][0]] \n",
        "\n",
        "#meia iteração reativa\n",
        "Q = potQ(v,a,nbarras,Y)\n",
        "qcalc = np.array([[Q[1]],[Q[3]]])\n",
        "delQ = Qesp - qcalc\n",
        "#qn está especifico!!!!!!\n",
        "qn = np.array([[v[1]],[v[3]]])\n",
        "delQn = delQ/qn\n",
        "print('A diferença entre as potencias reativas esperadas e as calculadas é:\\n')\n",
        "print(delQ,'\\n')\n",
        "\n",
        "if (np.max(abs(delQ))<0.0001):\n",
        "  print('Os resultados são: \\n')\n",
        "  print('para as tensões: \\n',X2,'\\n')\n",
        "else:\n",
        "#obtendo a matriz L\n",
        "  L = Lline(Y,Q,v,a)\n",
        "  print('\\nL:\\n',L,'\\n')\n",
        "  Linv = np.linalg.inv(L)\n",
        "  print('\\n','A diferença entre as potencias reativas esperadas e as calculadas é:')\n",
        "  print(delQ)\n",
        "  newX2 = X2 + (Linv.dot(delQn))\n",
        "  print('\\n', 'o novo chute das tensoes','\\n',newX2)\n",
        "  X2 = newX2\n",
        "  \n"
      ],
      "execution_count": null,
      "outputs": [
        {
          "output_type": "stream",
          "text": [
            "A diferença entre as potencias ativas esperadas e as calculadas é:\n",
            "\n",
            "[[-0.99175462]\n",
            " [ 3.60484096]\n",
            " [-4.9920032 ]] \n",
            "\n",
            "Insira o tamanho da matriz H:3\n",
            "Índice para a potência do elemento H00:2\n",
            "Índice 1 para a potência do elemento H01:2\n",
            "Índice 2 para a potência do elemento H01:3\n",
            "Índice 1 para a potência do elemento H02:2\n",
            "Índice 2 para a potência do elemento H02:4\n",
            "Índice 1 para a potência do elemento H10:3\n",
            "Índice 2 para a potência do elemento H10:2\n",
            "Índice para a potência do elemento H11:3\n",
            "Índice 1 para a potência do elemento H12:3\n",
            "Índice 2 para a potência do elemento H12:4\n",
            "Índice 1 para a potência do elemento H20:4\n",
            "Índice 2 para a potência do elemento H20:2\n",
            "Índice 1 para a potência do elemento H21:4\n",
            "Índice 2 para a potência do elemento H21:3\n",
            "Índice para a potência do elemento H22:4\n",
            "\n",
            "H:\n",
            " [[ 15.34162212 -10.19483886   0.        ]\n",
            " [ -9.99494006  57.32802436 -19.9920032 ]\n",
            " [  0.         -20.39184326  20.39184326]] \n",
            "\n",
            "o novo chute dos angulos: \n",
            " [[-0.10807593]\n",
            " [-0.06535714]\n",
            " [-0.31016106]] \n",
            "\n",
            "A diferença entre as potencias reativas esperadas e as calculadas é:\n",
            "\n",
            "[[ 0.4968002]\n",
            " [-1.0869913]] \n",
            "\n",
            "Insira o tamanho da matriz L:2\n",
            "Índice para a potência do elemento L00:2\n",
            "Índice 1 para a potência do elemento H01:2\n",
            "Índice 2 para a potência do elemento H01:4\n",
            "Índice 1 para a potência do elemento H10:4\n",
            "Índice 2 para a potência do elemento H10:2\n",
            "Índice para a potência do elemento L11:4\n",
            "\n",
            "L:\n",
            " [[13.28501681  0.        ]\n",
            " [-0.         19.8589945 ]] \n",
            "\n",
            "\n",
            " A diferença entre as potencias reativas esperadas e as calculadas é:\n",
            "[[ 0.4968002]\n",
            " [-1.0869913]]\n",
            "\n",
            " o novo chute das tensoes \n",
            " [[1.03739553]\n",
            " [0.94526454]]\n"
          ],
          "name": "stdout"
        }
      ]
    },
    {
      "cell_type": "code",
      "metadata": {
        "colab": {
          "base_uri": "https://localhost:8080/"
        },
        "id": "O8hxqMkyKnm4",
        "outputId": "da44fda2-c1ab-4e5f-d420-20f26abfc0c6"
      },
      "source": [
        "v = [1.03,X2[0][0],1.02,X2[1][0]]\n",
        "a = [0,X1[0][0],X1[1][0],X1[2][0]]\n",
        "\n",
        "#calculando as potencias ativas\n",
        "P = potP(v,a,nbarras,Y)\n",
        "Q = potQ(v,a,nbarras,Y)\n",
        "pcalc = np.array([[P[1]],[P[2]],[P[3]]])\n",
        "delP = Pesp-pcalc\n",
        "#pn está especifico!!!!!!\n",
        "pn = np.array([[v[1]],[v[2]],[v[3]]])\n",
        "delPn = delP/pn\n",
        "print('A diferença entre as potencias ativas esperadas e as calculadas é:\\n')\n",
        "print(delP,'\\n')\n",
        "\n",
        "if (np.max(abs(delP))<=0.0001):\n",
        "  print('Os resultados são: \\n')\n",
        "  print('para os ângulos: \\n',X1,'\\n')\n",
        "else:\n",
        "  #meia iteração ativa\n",
        "  H = Hline(Y,Q,v,a)\n",
        "  print('\\nH:\\n',H,'\\n')\n",
        "  # obtendo novos angulos\n",
        "  Hinv = np.linalg.inv(H)\n",
        "  newX1 = X1 + (Hinv.dot(delPn))\n",
        "  print('o novo chute dos angulos:','\\n',newX1,'\\n')\n",
        "  X1 = newX1\n",
        "\n",
        "a = [0,X1[0][0],X1[1][0],X1[2][0]]\n",
        "\n",
        "#meia iteração reativa\n",
        "Q = potQ(v,a,nbarras,Y)\n",
        "qcalc = np.array([[Q[1]],[Q[3]]])\n",
        "delQ = Qesp - qcalc\n",
        "#qn está especifico!!!!!!\n",
        "qn = np.array([[v[1]],[v[3]]])\n",
        "delQn = delQ/qn\n",
        "print('A diferença entre as potencias reativas esperadas e as calculadas é:\\n')\n",
        "print(delQ,'\\n')\n",
        "\n",
        "if (np.max(abs(delQ))<0.0001):\n",
        "  print('Os resultados são: \\n')\n",
        "  print('para as tensões: \\n',X2,'\\n')\n",
        "else:\n",
        "#obtendo a matriz L\n",
        "  L = Lline(Y,Q,v,a)\n",
        "  print('\\nL:\\n',L,'\\n')\n",
        "  Linv = np.linalg.inv(L)\n",
        "  print('\\n','A diferença entre as potencias reativas esperadas e as calculadas é:')\n",
        "  print(delQ)\n",
        "  newX2 = X2 + (Linv.dot(delQn))\n",
        "  print('\\n', 'o novo chute das tensoes','\\n',newX2)\n",
        "  X2 = newX2"
      ],
      "execution_count": null,
      "outputs": [
        {
          "output_type": "stream",
          "text": [
            "A diferença entre as potencias ativas esperadas e as calculadas é:\n",
            "\n",
            "[[ 0.0215691 ]\n",
            " [ 0.27346066]\n",
            " [-0.31147468]] \n",
            "\n",
            "Insira o tamanho da matriz H:3\n",
            "Índice para a potência do elemento H00:2\n",
            "Índice 1 para a potência do elemento H01:2\n",
            "Índice 2 para a potência do elemento H01:3\n",
            "Índice 1 para a potência do elemento H02:2\n",
            "Índice 2 para a potência do elemento H02:4\n",
            "Índice 1 para a potência do elemento H10:3\n",
            "Índice 2 para a potência do elemento H10:2\n",
            "Índice para a potência do elemento H11:3\n",
            "Índice 1 para a potência do elemento H12:3\n",
            "Índice 2 para a potência do elemento H12:4\n",
            "Índice 1 para a potência do elemento H20:4\n",
            "Índice 2 para a potência do elemento H20:2\n",
            "Índice 1 para a potência do elemento H21:4\n",
            "Índice 2 para a potência do elemento H21:3\n",
            "Índice para a potência do elemento H22:4\n",
            "\n",
            "H:\n",
            " [[ 15.27861721 -10.175742     0.        ]\n",
            " [-10.36920973  55.96183658 -18.4258966 ]\n",
            " [ -0.         -19.6850119   19.6850119 ]] \n",
            "\n",
            "o novo chute dos angulos: \n",
            " [[-0.10728533]\n",
            " [-0.06621331]\n",
            " [-0.3277564 ]] \n",
            "\n",
            "A diferença entre as potencias reativas esperadas e as calculadas é:\n",
            "\n",
            "[[-0.01829248]\n",
            " [-0.14630159]] \n",
            "\n",
            "Insira o tamanho da matriz L:2\n",
            "Índice para a potência do elemento L00:2\n",
            "Índice 1 para a potência do elemento H01:2\n",
            "Índice 2 para a potência do elemento H01:4\n",
            "Índice 1 para a potência do elemento H10:4\n",
            "Índice 2 para a potência do elemento H10:2\n",
            "Índice para a potência do elemento L11:4\n",
            "\n",
            "L:\n",
            " [[13.83421227  0.        ]\n",
            " [-0.         18.81657569]] \n",
            "\n",
            "\n",
            " A diferença entre as potencias reativas esperadas e as calculadas é:\n",
            "[[-0.01829248]\n",
            " [-0.14630159]]\n",
            "\n",
            " o novo chute das tensoes \n",
            " [[1.03612093]\n",
            " [0.93703917]]\n"
          ],
          "name": "stdout"
        }
      ]
    },
    {
      "cell_type": "code",
      "metadata": {
        "colab": {
          "base_uri": "https://localhost:8080/"
        },
        "id": "K1PuH-35QqI4",
        "outputId": "0b383242-a3f8-4f90-e6b3-d3776c2a9a7c"
      },
      "source": [
        "v = [1.03,X2[0][0],1.02,X2[1][0]]\n",
        "a = [0,X1[0][0],X1[1][0],X1[2][0]]\n",
        "\n",
        "#calculando as potencias ativas\n",
        "P = potP(v,a,nbarras,Y)\n",
        "Q = potQ(v,a,nbarras,Y)\n",
        "pcalc = np.array([[P[1]],[P[2]],[P[3]]])\n",
        "delP = Pesp-pcalc\n",
        "#pn está especifico!!!!!!\n",
        "pn = np.array([[v[1]],[v[2]],[v[3]]])\n",
        "delPn = delP/pn\n",
        "print('A diferença entre as potencias ativas esperadas e as calculadas é:\\n')\n",
        "print(delP,'\\n')\n",
        "\n",
        "if (np.max(abs(delP))<=0.0001):\n",
        "  print('Os resultados são: \\n')\n",
        "  print('para os ângulos: \\n',X1,'\\n')\n",
        "else:\n",
        "  #meia iteração ativa\n",
        "  H = Hline(Y,Q,v,a)\n",
        "  print('\\nH:\\n',H,'\\n')\n",
        "  # obtendo novos angulos\n",
        "  Hinv = np.linalg.inv(H)\n",
        "  newX1 = X1 + (Hinv.dot(delPn))\n",
        "  print('o novo chute dos angulos:','\\n',newX1,'\\n')\n",
        "  X1 = newX1\n",
        "\n",
        "a = [0,X1[0][0],X1[1][0],X1[2][0]]\n",
        "\n",
        "#meia iteração reativa\n",
        "Q = potQ(v,a,nbarras,Y)\n",
        "qcalc = np.array([[Q[1]],[Q[3]]])\n",
        "delQ = Qesp - qcalc\n",
        "#qn está especifico!!!!!!\n",
        "qn = np.array([[v[1]],[v[3]]])\n",
        "delQn = delQ/qn\n",
        "print('A diferença entre as potencias reativas esperadas e as calculadas é:\\n')\n",
        "print(delQ,'\\n')\n",
        "\n",
        "if (np.max(abs(delQ))<0.0001):\n",
        "  print('Os resultados são: \\n')\n",
        "  print('para as tensões: \\n',X2,'\\n')\n",
        "else:\n",
        "#obtendo a matriz L\n",
        "  L = Lline(Y,Q,v,a)\n",
        "  print('\\nL:\\n',L,'\\n')\n",
        "  Linv = np.linalg.inv(L)\n",
        "  print('\\n','A diferença entre as potencias reativas esperadas e as calculadas é:')\n",
        "  print(delQ)\n",
        "  newX2 = X2 + (Linv.dot(delQn))\n",
        "  print('\\n', 'o novo chute das tensoes','\\n',newX2)\n",
        "  X2 = newX2"
      ],
      "execution_count": null,
      "outputs": [
        {
          "output_type": "stream",
          "text": [
            "A diferença entre as potencias ativas esperadas e as calculadas é:\n",
            "\n",
            "[[-0.00076783]\n",
            " [ 0.04098692]\n",
            " [-0.04114167]] \n",
            "\n",
            "Insira o tamanho da matriz H:3\n",
            "Índice para a potência do elemento H00:2\n",
            "Índice 1 para a potência do elemento H01:2\n",
            "Índice 2 para a potência do elemento H01:3\n",
            "Índice 1 para a potência do elemento H02:2\n",
            "Índice 2 para a potência do elemento H02:4\n",
            "Índice 1 para a potência do elemento H10:3\n",
            "Índice 2 para a potência do elemento H10:2\n",
            "Índice para a potência do elemento H11:3\n",
            "Índice 1 para a potência do elemento H12:3\n",
            "Índice 2 para a potência do elemento H12:4\n",
            "Índice 1 para a potência do elemento H20:4\n",
            "Índice 2 para a potência do elemento H20:2\n",
            "Índice 1 para a potência do elemento H21:4\n",
            "Índice 2 para a potência do elemento H21:3\n",
            "Índice para a potência do elemento H22:4\n",
            "\n",
            "H:\n",
            " [[ 15.28023624 -10.17682257   0.        ]\n",
            " [-10.35680046  55.71356349 -18.19308872]\n",
            " [ -0.         -19.59290515  19.59290515]] \n",
            "\n",
            "o novo chute dos angulos: \n",
            " [[-0.10735749]\n",
            " [-0.06624885]\n",
            " [-0.33003285]] \n",
            "\n",
            "A diferença entre as potencias reativas esperadas e as calculadas é:\n",
            "\n",
            "[[-9.85821626e-05]\n",
            " [-1.32829043e-02]] \n",
            "\n",
            "Insira o tamanho da matriz L:2\n",
            "Índice para a potência do elemento L00:2\n",
            "Índice 1 para a potência do elemento H01:2\n",
            "Índice 2 para a potência do elemento H01:4\n",
            "Índice 1 para a potência do elemento H10:4\n",
            "Índice 2 para a potência do elemento H10:2\n",
            "Índice para a potência do elemento L11:4\n",
            "\n",
            "L:\n",
            " [[13.81616286  0.        ]\n",
            " [-0.         18.64823391]] \n",
            "\n",
            "\n",
            " A diferença entre as potencias reativas esperadas e as calculadas é:\n",
            "[[-9.85821626e-05]\n",
            " [-1.32829043e-02]]\n",
            "\n",
            " o novo chute das tensoes \n",
            " [[1.03611404]\n",
            " [0.93627902]]\n"
          ],
          "name": "stdout"
        }
      ]
    },
    {
      "cell_type": "code",
      "metadata": {
        "colab": {
          "base_uri": "https://localhost:8080/"
        },
        "id": "dG89kuwkXxBT",
        "outputId": "020e0008-9678-4c9c-b95f-ed9617a89b7d"
      },
      "source": [
        "v = [1.03,X2[0][0],1.02,X2[1][0]]\n",
        "a = [0,X1[0][0],X1[1][0],X1[2][0]]\n",
        "\n",
        "#calculando as potencias ativas\n",
        "P = potP(v,a,nbarras,Y)\n",
        "Q = potQ(v,a,nbarras,Y)\n",
        "pcalc = np.array([[P[1]],[P[2]],[P[3]]])\n",
        "delP = Pesp-pcalc\n",
        "#pn está especifico!!!!!!\n",
        "pn = np.array([[v[1]],[v[2]],[v[3]]])\n",
        "delPn = delP/pn\n",
        "print('A diferença entre as potencias ativas esperadas e as calculadas é:\\n')\n",
        "print(delP,'\\n')\n",
        "\n",
        "if (np.max(abs(delP))<=0.0001):\n",
        "  print('Os resultados são: \\n')\n",
        "  print('para os ângulos: \\n',X1,'\\n')\n",
        "else:\n",
        "  #meia iteração ativa\n",
        "  H = Hline(Y,Q,v,a)\n",
        "  print('\\nH:\\n',H,'\\n')\n",
        "  # obtendo novos angulos\n",
        "  Hinv = np.linalg.inv(H)\n",
        "  newX1 = X1 + (Hinv.dot(delPn))\n",
        "  print('o novo chute dos angulos:','\\n',newX1,'\\n')\n",
        "  X1 = newX1\n",
        "\n",
        "a = [0,X1[0][0],X1[1][0],X1[2][0]]\n",
        "\n",
        "#meia iteração reativa\n",
        "Q = potQ(v,a,nbarras,Y)\n",
        "qcalc = np.array([[Q[1]],[Q[3]]])\n",
        "delQ = Qesp - qcalc\n",
        "#qn está especifico!!!!!!\n",
        "qn = np.array([[v[1]],[v[3]]])\n",
        "delQn = delQ/qn\n",
        "print('A diferença entre as potencias reativas esperadas e as calculadas é:\\n')\n",
        "print(delQ,'\\n')\n",
        "\n",
        "if (np.max(abs(delQ))<0.0001):\n",
        "  print('Os resultados são: \\n')\n",
        "  print('para as tensões: \\n',X2,'\\n')\n",
        "else:\n",
        "#obtendo a matriz L\n",
        "  L = Lline(Y,Q,v,a)\n",
        "  print('\\nL:\\n',L,'\\n')\n",
        "  Linv = np.linalg.inv(L)\n",
        "  print('\\n','A diferença entre as potencias reativas esperadas e as calculadas é:')\n",
        "  print(delQ)\n",
        "  newX2 = X2 + (Linv.dot(delQn))\n",
        "  print('\\n', 'o novo chute das tensoes','\\n',newX2)\n",
        "  X2 = newX2"
      ],
      "execution_count": null,
      "outputs": [
        {
          "output_type": "stream",
          "text": [
            "A diferença entre as potencias ativas esperadas e as calculadas é:\n",
            "\n",
            "[[-4.15277550e-06]\n",
            " [ 3.75513442e-03]\n",
            " [-3.78489713e-03]] \n",
            "\n",
            "Insira o tamanho da matriz H:3\n",
            "Índice para a potência do elemento H00:2\n",
            "Índice 1 para a potência do elemento H01:2\n",
            "Índice 2 para a potência do elemento H01:3\n",
            "Índice 1 para a potência do elemento H02:2\n",
            "Índice 2 para a potência do elemento H02:4\n",
            "Índice 1 para a potência do elemento H10:3\n",
            "Índice 2 para a potência do elemento H10:2\n",
            "Índice para a potência do elemento H11:3\n",
            "Índice 1 para a potência do elemento H12:3\n",
            "Índice 2 para a potência do elemento H12:4\n",
            "Índice 1 para a potência do elemento H20:4\n",
            "Índice 2 para a potência do elemento H20:2\n",
            "Índice 1 para a potência do elemento H21:4\n",
            "Índice 2 para a potência do elemento H21:3\n",
            "Índice para a potência do elemento H22:4\n",
            "\n",
            "H:\n",
            " [[ 15.28016349 -10.17679884   0.        ]\n",
            " [-10.35672457  55.6885205  -18.16824889]\n",
            " [ -0.         -19.58015734  19.58015734]] \n",
            "\n",
            "o novo chute dos angulos: \n",
            " [[-0.10735932]\n",
            " [-0.06625121]\n",
            " [-0.33024166]] \n",
            "\n",
            "A diferença entre as potencias reativas esperadas e as calculadas é:\n",
            "\n",
            "[[-9.38063835e-07]\n",
            " [-1.11569129e-03]] \n",
            "\n",
            "Insira o tamanho da matriz L:2\n",
            "Índice para a potência do elemento L00:2\n",
            "Índice 1 para a potência do elemento H01:2\n",
            "Índice 2 para a potência do elemento H01:4\n",
            "Índice 1 para a potência do elemento H10:4\n",
            "Índice 2 para a potência do elemento H10:2\n",
            "Índice para a potência do elemento L11:4\n",
            "\n",
            "L:\n",
            " [[13.81606572  0.        ]\n",
            " [-0.         18.63252872]] \n",
            "\n",
            "\n",
            " A diferença entre as potencias reativas esperadas e as calculadas é:\n",
            "[[-9.38063835e-07]\n",
            " [-1.11569129e-03]]\n",
            "\n",
            " o novo chute das tensoes \n",
            " [[1.03611397]\n",
            " [0.93621507]]\n"
          ],
          "name": "stdout"
        }
      ]
    },
    {
      "cell_type": "code",
      "metadata": {
        "colab": {
          "base_uri": "https://localhost:8080/"
        },
        "id": "QWL5CFCYX_7o",
        "outputId": "45e6ead6-4b14-451d-9699-4e7558e38468"
      },
      "source": [
        "v = [1.03,X2[0][0],1.02,X2[1][0]]\n",
        "a = [0,X1[0][0],X1[1][0],X1[2][0]]\n",
        "\n",
        "#calculando as potencias ativas\n",
        "P = potP(v,a,nbarras,Y)\n",
        "Q = potQ(v,a,nbarras,Y)\n",
        "pcalc = np.array([[P[1]],[P[2]],[P[3]]])\n",
        "delP = Pesp-pcalc\n",
        "#pn está especifico!!!!!!\n",
        "pn = np.array([[v[1]],[v[2]],[v[3]]])\n",
        "delPn = delP/pn\n",
        "print('A diferença entre as potencias ativas esperadas e as calculadas é:\\n')\n",
        "print(delP,'\\n')\n",
        "\n",
        "if (np.max(abs(delP))<=0.0001):\n",
        "  print('Os resultados são: \\n')\n",
        "  print('para os ângulos: \\n',X1,'\\n')\n",
        "else:\n",
        "  #meia iteração ativa\n",
        "  H = Hline(Y,Q,v,a)\n",
        "  print('\\nH:\\n',H,'\\n')\n",
        "  # obtendo novos angulos\n",
        "  Hinv = np.linalg.inv(H)\n",
        "  newX1 = X1 + (Hinv.dot(delPn))\n",
        "  print('o novo chute dos angulos:','\\n',newX1,'\\n')\n",
        "  X1 = newX1\n",
        "\n",
        "a = [0,X1[0][0],X1[1][0],X1[2][0]]\n",
        "\n",
        "#meia iteração reativa\n",
        "Q = potQ(v,a,nbarras,Y)\n",
        "qcalc = np.array([[Q[1]],[Q[3]]])\n",
        "delQ = Qesp - qcalc\n",
        "#qn está especifico!!!!!!\n",
        "qn = np.array([[v[1]],[v[3]]])\n",
        "delQn = delQ/qn\n",
        "print('A diferença entre as potencias reativas esperadas e as calculadas é:\\n')\n",
        "print(delQ,'\\n')\n",
        "\n",
        "if (np.max(abs(delQ))<0.0001):\n",
        "  print('Os resultados são: \\n')\n",
        "  print('para as tensões: \\n',X2,'\\n')\n",
        "else:\n",
        "#obtendo a matriz L\n",
        "  L = Lline(Y,Q,v,a)\n",
        "  print('\\nL:\\n',L,'\\n')\n",
        "  Linv = np.linalg.inv(L)\n",
        "  print('\\n','A diferença entre as potencias reativas esperadas e as calculadas é:')\n",
        "  print(delQ)\n",
        "  newX2 = X2 + (Linv.dot(delQn))\n",
        "  print('\\n', 'o novo chute das tensoes','\\n',newX2)\n",
        "  X2 = newX2"
      ],
      "execution_count": null,
      "outputs": [
        {
          "output_type": "stream",
          "text": [
            "A diferença entre as potencias ativas esperadas e as calculadas é:\n",
            "\n",
            "[[-3.94964725e-08]\n",
            " [ 3.15226477e-04]\n",
            " [-3.17705912e-04]] \n",
            "\n",
            "Insira o tamanho da matriz H:3\n",
            "Índice para a potência do elemento H00:2\n",
            "Índice 1 para a potência do elemento H01:2\n",
            "Índice 2 para a potência do elemento H01:3\n",
            "Índice 1 para a potência do elemento H02:2\n",
            "Índice 2 para a potência do elemento H02:4\n",
            "Índice 1 para a potência do elemento H10:3\n",
            "Índice 2 para a potência do elemento H10:2\n",
            "Índice para a potência do elemento H11:3\n",
            "Índice 1 para a potência do elemento H12:3\n",
            "Índice 2 para a potência do elemento H12:4\n",
            "Índice 1 para a potência do elemento H20:4\n",
            "Índice 2 para a potência do elemento H20:2\n",
            "Índice 1 para a potência do elemento H21:4\n",
            "Índice 2 para a potência do elemento H21:3\n",
            "Índice para a potência do elemento H22:4\n",
            "\n",
            "H:\n",
            " [[ 15.28016258 -10.17679918   0.        ]\n",
            " [-10.35672402  55.68633717 -18.16607456]\n",
            " [ -0.         -19.57897792  19.57897792]] \n",
            "\n",
            "o novo chute dos angulos: \n",
            " [[-0.10735945]\n",
            " [-0.0662514 ]\n",
            " [-0.33025919]] \n",
            "\n",
            "A diferença entre as potencias reativas esperadas e as calculadas é:\n",
            "\n",
            "[[-5.00909501e-08]\n",
            " [-9.28146193e-05]] \n",
            "\n",
            "Os resultados são: \n",
            "\n",
            "para as tensões: \n",
            " [[1.03611397]\n",
            " [0.93621507]] \n",
            "\n"
          ],
          "name": "stdout"
        }
      ]
    },
    {
      "cell_type": "code",
      "metadata": {
        "colab": {
          "base_uri": "https://localhost:8080/"
        },
        "id": "zFaewZxaYU9K",
        "outputId": "5acb82f0-55fa-4baa-bb2c-4176d058dad6"
      },
      "source": [
        "v = [1.03,X2[0][0],1.02,X2[1][0]]\n",
        "a = [0,X1[0][0],X1[1][0],X1[2][0]]\n",
        "\n",
        "#calculando as potencias ativas\n",
        "P = potP(v,a,nbarras,Y)\n",
        "Q = potQ(v,a,nbarras,Y)\n",
        "pcalc = np.array([[P[1]],[P[2]],[P[3]]])\n",
        "delP = Pesp-pcalc\n",
        "#pn está especifico!!!!!!\n",
        "pn = np.array([[v[1]],[v[2]],[v[3]]])\n",
        "delPn = delP/pn\n",
        "print('A diferença entre as potencias ativas esperadas e as calculadas é:\\n')\n",
        "print(delP,'\\n')\n",
        "\n",
        "if (np.max(abs(delP))<=0.0001):\n",
        "  print('Os resultados são: \\n')\n",
        "  print('para os ângulos: \\n',X1,'\\n')\n",
        "else:\n",
        "  #meia iteração ativa\n",
        "  H = Hline(Y,Q,v,a)\n",
        "  print('\\nH:\\n',H,'\\n')\n",
        "  # obtendo novos angulos\n",
        "  Hinv = np.linalg.inv(H)\n",
        "  newX1 = X1 + (Hinv.dot(delPn))\n",
        "  print('o novo chute dos angulos:','\\n',newX1,'\\n')\n",
        "  X1 = newX1\n",
        "\n",
        "a = [0,X1[0][0],X1[1][0],X1[2][0]]\n",
        "\n",
        "#meia iteração reativa\n",
        "Q = potQ(v,a,nbarras,Y)\n",
        "qcalc = np.array([[Q[1]],[Q[3]]])\n",
        "delQ = Qesp - qcalc\n",
        "#qn está especifico!!!!!!\n",
        "qn = np.array([[v[1]],[v[3]]])\n",
        "delQn = delQ/qn\n",
        "print('A diferença entre as potencias reativas esperadas e as calculadas é:\\n')\n",
        "print(delQ,'\\n')\n",
        "\n",
        "if (np.max(abs(delQ))<0.0001):\n",
        "  print('Os resultados são: \\n')\n",
        "  print('para as tensões: \\n',X2,'\\n')\n",
        "else:\n",
        "#obtendo a matriz L\n",
        "  L = Lline(Y,Q,v,a)\n",
        "  print('\\nL:\\n',L,'\\n')\n",
        "  Linv = np.linalg.inv(L)\n",
        "  print('\\n','A diferença entre as potencias reativas esperadas e as calculadas é:')\n",
        "  print(delQ)\n",
        "  newX2 = X2 + (Linv.dot(delQn))\n",
        "  print('\\n', 'o novo chute das tensoes','\\n',newX2)\n",
        "  X2 = newX2"
      ],
      "execution_count": null,
      "outputs": [
        {
          "output_type": "stream",
          "text": [
            "A diferença entre as potencias ativas esperadas e as calculadas é:\n",
            "\n",
            "[[-7.10542736e-15]\n",
            " [ 6.92846669e-10]\n",
            " [-8.03642486e-10]] \n",
            "\n",
            "Os resultados são: \n",
            "\n",
            "para os ângulos: \n",
            " [[-0.10735945]\n",
            " [-0.0662514 ]\n",
            " [-0.33025919]] \n",
            "\n",
            "A diferença entre as potencias reativas esperadas e as calculadas é:\n",
            "\n",
            "[[-5.00909501e-08]\n",
            " [-9.28146193e-05]] \n",
            "\n",
            "Os resultados são: \n",
            "\n",
            "para as tensões: \n",
            " [[1.03611397]\n",
            " [0.93621507]] \n",
            "\n"
          ],
          "name": "stdout"
        }
      ]
    },
    {
      "cell_type": "code",
      "metadata": {
        "id": "gEmHpwdaTvsJ"
      },
      "source": [
        "v = [1.03,X2[0][0],1.02,X2[1][0]]\n",
        "a = [0,X1[0][0],X1[1][0],X1[2][0]]"
      ],
      "execution_count": null,
      "outputs": []
    },
    {
      "cell_type": "code",
      "metadata": {
        "colab": {
          "base_uri": "https://localhost:8080/"
        },
        "id": "-NeAtkGcN7Yr",
        "outputId": "ad09d54a-a7c1-4f50-db93-f4825892cc74"
      },
      "source": [
        "#calculando as magnitudes e angulos\n",
        "#rad*180/pi\n",
        "degrees = np.zeros(3)\n",
        "for i in range(3):\n",
        "  degrees[i] = X1[i][0]*(180/np.pi)\n",
        "print('As magnitudes e angulos das tensões:')\n",
        "print('V1 : 1.03 / 0 º')\n",
        "print('V2 :',X2[0][0] ,'/',degrees[0],'º')\n",
        "print('V3 : 1.02 /',degrees[1],'º')\n",
        "print('V4 :',X2[1][0] ,'/',degrees[2],'º')  "
      ],
      "execution_count": null,
      "outputs": [
        {
          "output_type": "stream",
          "text": [
            "As magnitudes e angulos das tensões:\n",
            "V1 : 1.03 / 0 º\n",
            "V2 : 1.0361139747154036 / -6.151243590640018 º\n",
            "V3 : 1.02 / -3.795925489034553 º\n",
            "V4 : 0.9362150706212321 / -18.9224575469188 º\n"
          ],
          "name": "stdout"
        }
      ]
    },
    {
      "cell_type": "markdown",
      "metadata": {
        "id": "X2bMP1YuT88d"
      },
      "source": [
        " **Cálculo das potências**"
      ]
    },
    {
      "cell_type": "code",
      "metadata": {
        "colab": {
          "base_uri": "https://localhost:8080/"
        },
        "id": "Rnn1u6SsT6pB",
        "outputId": "55767f8c-da90-4749-debb-88354d2d8fe6"
      },
      "source": [
        "#fasores\n",
        "V = np.array([1.03,X2[0][0],1.02,X2[1][0]])\n",
        "rad = np.array([0,X1[0][0],X1[1][0],X1[2][0]])\n",
        "E = []\n",
        "for i in range(4):\n",
        "  E.append(V[i]*(np.exp(np.complex(0,rad[i])))) \n",
        "print(E)"
      ],
      "execution_count": null,
      "outputs": [
        {
          "output_type": "stream",
          "text": [
            "[(1.03+0j), (1.030148555894341-0.11102306692465172j), (1.0177623023217146-0.06752700180522608j), (0.8856204391920525-0.3036035180026654j)]\n"
          ],
          "name": "stdout"
        }
      ]
    },
    {
      "cell_type": "code",
      "metadata": {
        "id": "lsbx8XIsYiw9"
      },
      "source": [
        "#funcao que calcula os fluxos nas linhas\n",
        "\n",
        "def skm(v1,v2,v3,v4,b12,b13_1,b13_2,b23,b34,Y):\n",
        "  S12 = np.conj(v1)*(-(Y[0][1])*(v1-v2)+(b12/2)*(v1))\n",
        "  S21 = np.conj(v2)*(-(Y[1][0])*(v2-v1)+(b12/2)*(v2))\n",
        "  S131 = np.conj(v1)*((1/(0.009+0.1j))*(v1-v3)+(b13_1/2)*(v1))\n",
        "  S311 = np.conj(v3)*((1/(0.009+0.1j))*(v3-v1)+(b13_1/2)*(v3))\n",
        "  S132 = np.conj(v1)*((1/(0.003+0.06j))*(v1-v3)+(b13_2/2)*(v1))\n",
        "  S312 = np.conj(v3)*((1/(0.003+0.06j))*(v3-v1)+(b13_2/2)*(v3))\n",
        "  S23 = np.conj(v2)*(-(Y[1][2])*(v2-v3)+(b23/2)*(v2))\n",
        "  S32 = np.conj(v3)*(-(Y[2][1])*(v3-v2)+(b23/2)*(v3))\n",
        "  S34 = np.conj(v3)*(-(Y[2][3])*(v3-v4)+(b34)/2*(v3))\n",
        "  S43 = np.conj(v4)*(-(Y[3][2])*(v4-v3)+(b34/2)*(v4))\n",
        "  Sr = np.array([[S12+S21],[S131+S311],[S132+S312],[S23+S32],[S34+S43]])\n",
        "  return Sr"
      ],
      "execution_count": null,
      "outputs": []
    },
    {
      "cell_type": "code",
      "metadata": {
        "colab": {
          "base_uri": "https://localhost:8080/"
        },
        "id": "zdYwonf0h4dS",
        "outputId": "01cd9e0e-b141-4cad-ba42-6a0a6aefe40c"
      },
      "source": [
        "#valores calculados\n",
        "P = potP(v,a,nbarras,Y)\n",
        "Q = potQ(v,a,nbarras,Y)\n",
        "print('As potências Ativas:')\n",
        "print(np.round(P,4), '\\n')\n",
        "print('As potências Reativas:')\n",
        "print(np.round(Q,4))\n"
      ],
      "execution_count": null,
      "outputs": [
        {
          "output_type": "stream",
          "text": [
            "As potências Ativas:\n",
            "[ 2.4394 -1.      3.6    -5.    ] \n",
            "\n",
            "As potências Reativas:\n",
            "[-0.6385 -0.5     0.7879 -0.9999]\n"
          ],
          "name": "stdout"
        }
      ]
    },
    {
      "cell_type": "code",
      "metadata": {
        "colab": {
          "base_uri": "https://localhost:8080/"
        },
        "id": "S58ej5OBYmUf",
        "outputId": "ea5f9e74-9474-4fba-d025-6be11fad6106"
      },
      "source": [
        "Sramos = skm(E[0],E[1],E[2],E[3],0.54j,0.82j,0.22j,0.88j,0.44j,Y)\n",
        "Sline = np.conj(Sramos)\n",
        "print('As perdas por ramos são: ')\n",
        "print(Sline)\n",
        "Sptot = np.sum(Sline)\n",
        "print('\\n As perdas totais são: ',Sptot)\n",
        "S = []\n",
        "for k in range(4):\n",
        "  S.append(np.complex(P[k],Q[k]))\n",
        "print('\\n As injeções de potência em cada barra: ',np.round(S,3))\n",
        "\n",
        "print('\\n O delta S é:',np.round(np.sum(S)-Sptot,3))\n"
      ],
      "execution_count": null,
      "outputs": [
        {
          "output_type": "stream",
          "text": [
            "As perdas por ramos são: \n",
            "[[0.00153981-0.51470446j]\n",
            " [0.00420463-0.81481484j]\n",
            " [0.00391493-0.15284446j]\n",
            " [0.00045997-0.90968723j]\n",
            " [0.02926573+1.04156885j]]\n",
            "\n",
            " As perdas totais são:  (0.039385063356501104-1.3504821511359806j)\n",
            "\n",
            " As injeções de potência em cada barra:  [ 2.439-0.638j -1.   -0.5j    3.6  +0.788j -5.   -1.j   ]\n",
            "\n",
            " O delta S é: -0j\n"
          ],
          "name": "stdout"
        }
      ]
    }
  ]
}